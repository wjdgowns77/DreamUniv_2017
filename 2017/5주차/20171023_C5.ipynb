{
 "cells": [
  {
   "cell_type": "markdown",
   "metadata": {
    "collapsed": true
   },
   "source": [
    "# 조건문/반복문 "
   ]
  },
  {
   "cell_type": "markdown",
   "metadata": {},
   "source": [
    "## 조건문"
   ]
  },
  {
   "cell_type": "code",
   "execution_count": 4,
   "metadata": {},
   "outputs": [
    {
     "name": "stdout",
     "output_type": "stream",
     "text": [
      "성적을 입력해주세요 :59\n"
     ]
    }
   ],
   "source": [
    "score=int(input(\"성적을 입력해주세요 :\"))"
   ]
  },
  {
   "cell_type": "code",
   "execution_count": 7,
   "metadata": {},
   "outputs": [
    {
     "name": "stdout",
     "output_type": "stream",
     "text": [
      "59\n",
      "불합격!\n"
     ]
    }
   ],
   "source": [
    "print(score)\n",
    "if score>=60:\n",
    "    print(\"합격!\")\n",
    "else:\n",
    "    print(\"불합격!\")"
   ]
  },
  {
   "cell_type": "code",
   "execution_count": 9,
   "metadata": {},
   "outputs": [
    {
     "name": "stdout",
     "output_type": "stream",
     "text": [
      "성적을 입력해주세요 :50\n",
      "50\n",
      "불합격!\n"
     ]
    }
   ],
   "source": [
    "score=int(input(\"성적을 입력해주세요 :\"))\n",
    "print(score)\n",
    "if score>=60:\n",
    "    print(\"합격!\")\n",
    "else:\n",
    "    print(\"불합격!\")"
   ]
  },
  {
   "cell_type": "code",
   "execution_count": 4,
   "metadata": {},
   "outputs": [
    {
     "name": "stdout",
     "output_type": "stream",
     "text": [
      "나이를 입력해주세요 :19\n",
      "19\n",
      "관람가능\n"
     ]
    }
   ],
   "source": [
    "age=int(input(\"나이를 입력해주세요 :\"))\n",
    "print(age)\n",
    "if age>=19:\n",
    "    print(\"관람가능\")\n",
    "else:\n",
    "    print(\"관람 불가\")\n"
   ]
  },
  {
   "cell_type": "code",
   "execution_count": null,
   "metadata": {
    "collapsed": true
   },
   "outputs": [],
   "source": [
    "age=int(input(\"나이를 입력하세요.\"))\n",
    "hi=int(input(\"키를 입력하세요\"))\n",
    "\n",
    "\n",
    "\n"
   ]
  },
  {
   "cell_type": "code",
   "execution_count": 6,
   "metadata": {
    "collapsed": true
   },
   "outputs": [],
   "source": [
    "# 윤년 판단"
   ]
  },
  {
   "cell_type": "code",
   "execution_count": 9,
   "metadata": {},
   "outputs": [
    {
     "name": "stdout",
     "output_type": "stream",
     "text": [
      "윤년 판단기\n",
      "궁금한 연도를 입력하세요400\n",
      "400 년은 윤년이다.\n"
     ]
    }
   ],
   "source": [
    "print(\"윤년 판단기\")\n",
    "year=int(input(\"궁금한 연도를 입력하세요\"))\n",
    "if((year%4==0)and(year%100!=0) or (year%400==0)):\n",
    "   print(year,\"년은 윤년이다.\")\n",
    "else:\n",
    "   print(year,\"년은 윤년이 아니다\")\n",
    "\n",
    "\n",
    "\n"
   ]
  },
  {
   "cell_type": "code",
   "execution_count": 12,
   "metadata": {},
   "outputs": [
    {
     "name": "stdout",
     "output_type": "stream",
     "text": [
      "정수를 입력하시오:0\n",
      "0입니다\n"
     ]
    }
   ],
   "source": [
    "num=int(input(\"정수를 입력하시오:\"))\n",
    "if num>0:\n",
    "    print(\"양수입니다\")\n",
    "elif num==0:\n",
    "    print(\"0입니다\")\n",
    "else:\n",
    "    print(\"음수입니다\")\n",
    "\n"
   ]
  },
  {
   "cell_type": "code",
   "execution_count": 16,
   "metadata": {},
   "outputs": [
    {
     "name": "stdout",
     "output_type": "stream",
     "text": [
      "정수를 입력하시오:0\n",
      "0입니다\n"
     ]
    }
   ],
   "source": [
    "#중첨 if-else 문\n",
    "num=int(input(\"정수를 입력하시오:\"))\n",
    "if (num>=0):\n",
    "    if (num==0):\n",
    "        print(\"0입니다\")\n",
    "    else:\n",
    "        print(\"양수입니다\")\n",
    "else:\n",
    "    print(\"음수입니다\")\n"
   ]
  },
  {
   "cell_type": "code",
   "execution_count": 37,
   "metadata": {},
   "outputs": [
    {
     "name": "stdout",
     "output_type": "stream",
     "text": [
      "id를 입력하세요user\n",
      "PW를 입력하세요ab\n",
      "ID 또는 패스워드 오류입니다\n"
     ]
    }
   ],
   "source": [
    "savedid=\"user\"\n",
    "savedpw=\"pwd\"\n",
    "              \n",
    "idtemp=input(\"id를 입력하세요\")\n",
    "pwtemp=input(\"PW를 입력하세요\")\n",
    "\n",
    "if((idtemp==savedid)and(pwtemp==savedpw)):\n",
    "    print(\"환영합니다.\")\n",
    "else:\n",
    "    print(\"ID 또는 패스워드 오류입니다\")\n"
   ]
  },
  {
   "cell_type": "code",
   "execution_count": 1,
   "metadata": {},
   "outputs": [
    {
     "name": "stdout",
     "output_type": "stream",
     "text": [
      "방문을 환영합니다\n",
      "방문을 환영합니다\n",
      "방문을 환영합니다\n",
      "방문을 환영합니다\n",
      "방문을 환영합니다\n",
      "방문을 환영합니다\n",
      "방문을 환영합니다\n",
      "방문을 환영합니다\n",
      "방문을 환영합니다\n",
      "방문을 환영합니다\n"
     ]
    }
   ],
   "source": [
    "for i in range(10):\n",
    "    print(\"방문을 환영합니다\")"
   ]
  },
  {
   "cell_type": "code",
   "execution_count": 4,
   "metadata": {},
   "outputs": [
    {
     "name": "stdout",
     "output_type": "stream",
     "text": [
      "i= 1\n",
      "i= 2\n",
      "i= 3\n",
      "i= 4\n",
      "i= 5\n"
     ]
    }
   ],
   "source": [
    "for i in [1,2,3,4,5]:\n",
    "    print(\"i=\",i)"
   ]
  },
  {
   "cell_type": "code",
   "execution_count": 8,
   "metadata": {},
   "outputs": [
    {
     "name": "stdout",
     "output_type": "stream",
     "text": [
      "9x 1 9\n",
      "9x 2 18\n",
      "9x 3 27\n",
      "9x 4 36\n",
      "9x 5 45\n",
      "9x 6 54\n",
      "9x 7 63\n",
      "9x 8 72\n",
      "9x 9 81\n"
     ]
    }
   ],
   "source": [
    "for i in [1,2,3,4,5,6,7,8,9]:\n",
    "    print(\"9x\",i,9*i)"
   ]
  },
  {
   "cell_type": "code",
   "execution_count": 19,
   "metadata": {},
   "outputs": [
    {
     "name": "stdout",
     "output_type": "stream",
     "text": [
      "1 2 3 4 5 6 7 8 9 "
     ]
    }
   ],
   "source": [
    "for i in range(1,10,1):\n",
    "    print(i,end=\" \")"
   ]
  },
  {
   "cell_type": "code",
   "execution_count": 3,
   "metadata": {},
   "outputs": [
    {
     "name": "stdout",
     "output_type": "stream",
     "text": [
      "정수를 입력하세요10\n",
      "10 !은 3628800 이다\n"
     ]
    }
   ],
   "source": [
    "n=int(input(\"정수를 입력하세요\"))\n",
    "fact=1\n",
    "for i in range(1,n+1):\n",
    "    fact=fact*i\n",
    "print(n,\"!은\",fact,\"이다\")"
   ]
  },
  {
   "cell_type": "code",
   "execution_count": 1,
   "metadata": {},
   "outputs": [
    {
     "name": "stdout",
     "output_type": "stream",
     "text": [
      "546\n"
     ]
    }
   ],
   "source": [
    "savedid=input(\"id를 입력하세요\")\n",
    "savedpw=input(\"패스워드를 입력하세요\")\n",
    "\n",
    "while password !\n",
    "\n",
    "\n",
    "\n",
    "\n",
    "\n"
   ]
  },
  {
   "cell_type": "code",
   "execution_count": 1,
   "metadata": {},
   "outputs": [
    {
     "name": "stdout",
     "output_type": "stream",
     "text": [
      "암호를 입력하세요:546\n",
      "암호를 입력하세요:454\n",
      "암호를 입력하세요:pw\n",
      "암호를 입력하세요:pW\n",
      "로그인 성공\n"
     ]
    }
   ],
   "source": [
    "password=\"\"\n",
    "\n",
    "while (password !=\"pW\"):\n",
    "    password=input(\"암호를 입력하세요:\")\n",
    "print (\"로그인 성공\")\n",
    "\n",
    "\n"
   ]
  },
  {
   "cell_type": "code",
   "execution_count": 2,
   "metadata": {},
   "outputs": [
    {
     "name": "stdout",
     "output_type": "stream",
     "text": [
      "원하는 단은?9\n",
      "9 단을 입력하셨습니다.\n",
      "9 x 1 = 9\n",
      "9 x 2 = 18\n",
      "9 x 3 = 27\n",
      "9 x 4 = 36\n",
      "9 x 5 = 45\n",
      "9 x 6 = 54\n",
      "9 x 7 = 63\n",
      "9 x 8 = 72\n",
      "9 x 9 = 81\n"
     ]
    }
   ],
   "source": [
    "#입력부분\n",
    "\n",
    "dan=int(input(\"원하는 단은?\"))\n",
    "print(dan,\"단을 입력하셨습니다.\")\n",
    "\n",
    "\n",
    "#계산부분\n",
    "\n",
    "i=1\n",
    "while i<=9:\n",
    "    print(\"{dan} x {i} = {result}\".format(dan = dan,i=i,result=dan*i))\n",
    "    i=i+1\n"
   ]
  },
  {
   "cell_type": "code",
   "execution_count": null,
   "metadata": {
    "collapsed": true
   },
   "outputs": [],
   "source": []
  },
  {
   "cell_type": "code",
   "execution_count": null,
   "metadata": {
    "collapsed": true
   },
   "outputs": [],
   "source": []
  }
 ],
 "metadata": {
  "kernelspec": {
   "display_name": "Python 3",
   "language": "python",
   "name": "python3"
  },
  "language_info": {
   "codemirror_mode": {
    "name": "ipython",
    "version": 3
   },
   "file_extension": ".py",
   "mimetype": "text/x-python",
   "name": "python",
   "nbconvert_exporter": "python",
   "pygments_lexer": "ipython3",
   "version": "3.4.3"
  }
 },
 "nbformat": 4,
 "nbformat_minor": 2
}
