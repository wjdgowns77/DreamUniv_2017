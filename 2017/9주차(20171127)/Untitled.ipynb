{
 "cells": [
  {
   "cell_type": "code",
   "execution_count": 14,
   "metadata": {},
   "outputs": [],
   "source": [
    "import sys #시스템 관련\n",
    "import time #시간 관련\n",
    "from selenium import webdriver\n",
    "from bs4 import BeautifulSoup\n",
    "import pandas as pd"
   ]
  },
  {
   "cell_type": "code",
   "execution_count": 39,
   "metadata": {},
   "outputs": [],
   "source": [
    "driver = webdriver.Chrome(\"C:\\chromedriver_win32\\chromedriver\")\n",
    "driver.get('http://krsearch.co.kr')"
   ]
  },
  {
   "cell_type": "code",
   "execution_count": 19,
   "metadata": {},
   "outputs": [],
   "source": [
    "#검색할 학교이름 리스트\n",
    "q_list = ['원곡고등학교','상록고등학교','양지고등학교','안산고등학교','초지고등학교','불곡고등학교']"
   ]
  },
  {
   "cell_type": "code",
   "execution_count": 20,
   "metadata": {},
   "outputs": [
    {
     "data": {
      "text/plain": [
       "['원곡고등학교', '상록고등학교', '양지고등학교', '안산고등학교', '초지고등학교', '불곡고등학교']"
      ]
     },
     "execution_count": 20,
     "metadata": {},
     "output_type": "execute_result"
    }
   ],
   "source": [
    "q_list"
   ]
  },
  {
   "cell_type": "code",
   "execution_count": 28,
   "metadata": {},
   "outputs": [],
   "source": [
    "#고등학교 검색코드\n",
    "all_data = []\n",
    "for q in q_list:\n",
    "    #검색창에 학교이름 넣기\n",
    "    search_element = driver.find_element_by_name('p') #검색창 위치\n",
    "    search_element.clear()\n",
    "    search_element.send_keys(q)\n",
    "    \n",
    "    #검색 후 검색버튼 클릭\n",
    "    search_button = driver.find_element_by_class_name(\"searchbtn2\")\n",
    "    search_button.click()\n",
    "    \n",
    "    #검색 결과(학교 주소) 수집\n",
    "    pageSource = driver.page_source\n",
    "    bs0bj = BeautifulSoup(pageSource, 'html.parser')\n",
    "    school = []\n",
    "    data = bs0bj.find_all('td', {\"class\":\"bbslist\"})\n",
    "    school.append(data[0].get_text().strip())\n",
    "    school.append(data[1].get_text().strip())\n",
    "    driver.get('http://krsearch.co.kr/')\n",
    "    all_data.append(school)\n",
    "    \n",
    "    \n",
    "    \n",
    "    \n",
    "    "
   ]
  },
  {
   "cell_type": "code",
   "execution_count": 32,
   "metadata": {},
   "outputs": [
    {
     "data": {
      "text/plain": [
       "[<td class=\"bbslist\" width=\"250\"> <a href=\"/schoolview/I12/10367\" title=\"불곡고등학교 학교위치 및 전화번호, 홈페이지\">불곡고등학교</a></td>,\n",
       " <td class=\"bbslist\" width=\"580\"><a href=\"/schoolview/I12/10367\">경기도 성남시 분당구 금곡로 149번지</a></td>,\n",
       " <td class=\"bbslist\" width=\"100\"><span class=\"btn h22\"><a href=\"/schoolview/I12/10367\" title=\"불곡고등학교 상세정보\">상세정보 확인</a></span></td>]"
      ]
     },
     "execution_count": 32,
     "metadata": {},
     "output_type": "execute_result"
    }
   ],
   "source": [
    "data"
   ]
  },
  {
   "cell_type": "code",
   "execution_count": 40,
   "metadata": {},
   "outputs": [
    {
     "data": {
      "text/plain": [
       "[['원곡고등학교', '경기도 안산시 단원구 원곡동 965-1번지'],\n",
       " ['상록고등학교', '경기도 안산시 상록구 본오동 산127-1번지'],\n",
       " ['양지고등학교', '경기도 안산시 단원구 고잔동 713번지'],\n",
       " ['안산고등학교', '경기도 안산시 상록구 청룡4길 8'],\n",
       " ['초지고등학교', '경기도 안산시 단원구 광덕1로 13'],\n",
       " ['불곡고등학교', '경기도 성남시 분당구 금곡로 149번지']]"
      ]
     },
     "execution_count": 40,
     "metadata": {},
     "output_type": "execute_result"
    }
   ],
   "source": [
    "all_data"
   ]
  },
  {
   "cell_type": "code",
   "execution_count": 41,
   "metadata": {},
   "outputs": [],
   "source": [
    "import requests\n",
    "import json\n"
   ]
  },
  {
   "cell_type": "code",
   "execution_count": 42,
   "metadata": {},
   "outputs": [],
   "source": [
    "def get_latitude_longitude(addr):\n",
    "    '''\n",
    "    DESCRIPTION: 주소를 입력하면 위도(latitude)/경도(longitude)를 반환하는 함수 \n",
    "    ex) get_latitude_longitude('경기도 안산시 상록구 한양대학로 55')\n",
    "    '''\n",
    "    location = addr\n",
    "    response = requests.get('http://maps.googleapis.com/maps/api/geocode/json?sensor=false&language=ko&address=' + location)    \n",
    "    loc_dict = json.loads(response.text)\n",
    "    latitude = loc_dict['results'][0]['geometry']['location']['lat'] \n",
    "    longitude = loc_dict['results'][0]['geometry']['location']['lng']\n",
    "    return [latitude, longitude]"
   ]
  },
  {
   "cell_type": "code",
   "execution_count": 46,
   "metadata": {},
   "outputs": [
    {
     "ename": "NameError",
     "evalue": "name 'fdata' is not defined",
     "output_type": "error",
     "traceback": [
      "\u001b[1;31m---------------------------------------------------------------------------\u001b[0m",
      "\u001b[1;31mNameError\u001b[0m                                 Traceback (most recent call last)",
      "\u001b[1;32m<ipython-input-46-f435cea3e2c5>\u001b[0m in \u001b[0;36m<module>\u001b[1;34m()\u001b[0m\n\u001b[0;32m      2\u001b[0m \u001b[0mlatitude_list\u001b[0m \u001b[1;33m=\u001b[0m \u001b[1;33m[\u001b[0m\u001b[1;33m]\u001b[0m\u001b[1;33m\u001b[0m\u001b[0m\n\u001b[0;32m      3\u001b[0m \u001b[0mlongitude_list\u001b[0m \u001b[1;33m=\u001b[0m \u001b[1;33m[\u001b[0m\u001b[1;33m]\u001b[0m\u001b[1;33m\u001b[0m\u001b[0m\n\u001b[1;32m----> 4\u001b[1;33m \u001b[1;32mfor\u001b[0m \u001b[0mi\u001b[0m \u001b[1;32min\u001b[0m \u001b[0mfdata\u001b[0m\u001b[1;33m[\u001b[0m\u001b[1;34m'address'\u001b[0m\u001b[1;33m]\u001b[0m\u001b[1;33m.\u001b[0m\u001b[0mvalues\u001b[0m\u001b[1;33m:\u001b[0m\u001b[1;33m\u001b[0m\u001b[0m\n\u001b[0m\u001b[0;32m      5\u001b[0m     \u001b[0mlat\u001b[0m\u001b[1;33m,\u001b[0m \u001b[0mlon\u001b[0m \u001b[1;33m=\u001b[0m \u001b[0mget_latitude_longitude\u001b[0m\u001b[1;33m(\u001b[0m\u001b[0mi\u001b[0m\u001b[1;33m)\u001b[0m\u001b[1;33m\u001b[0m\u001b[0m\n\u001b[0;32m      6\u001b[0m     \u001b[0mlatitude_list\u001b[0m\u001b[1;33m.\u001b[0m\u001b[0mappend\u001b[0m\u001b[1;33m(\u001b[0m\u001b[0mlat\u001b[0m\u001b[1;33m)\u001b[0m\u001b[1;33m\u001b[0m\u001b[0m\n",
      "\u001b[1;31mNameError\u001b[0m: name 'fdata' is not defined"
     ]
    }
   ],
   "source": [
    "# 위/경도 정보로 저장해 새로운 데이터 형성 후 저장하기\n",
    "latitude_list = []\n",
    "longitude_list = []\n",
    "for i in fdata['address'].values:\n",
    "    lat, lon = get_latitude_longitude(i)\n",
    "    latitude_list.append(lat)\n",
    "    longitude_list.append(lon)\n",
    "\n",
    "fdata['latitude'] = latitude_list\n",
    "fdata['longitude'] = longitude_list\n",
    "\n"
   ]
  },
  {
   "cell_type": "code",
   "execution_count": null,
   "metadata": {},
   "outputs": [],
   "source": []
  },
  {
   "cell_type": "code",
   "execution_count": null,
   "metadata": {},
   "outputs": [],
   "source": []
  }
 ],
 "metadata": {
  "kernelspec": {
   "display_name": "Python 3",
   "language": "python",
   "name": "python3"
  },
  "language_info": {
   "codemirror_mode": {
    "name": "ipython",
    "version": 3
   },
   "file_extension": ".py",
   "mimetype": "text/x-python",
   "name": "python",
   "nbconvert_exporter": "python",
   "pygments_lexer": "ipython3",
   "version": "3.6.3"
  }
 },
 "nbformat": 4,
 "nbformat_minor": 2
}
