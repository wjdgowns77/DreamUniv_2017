{
 "cells": [
  {
   "cell_type": "markdown",
   "metadata": {},
   "source": [
    "# Lab 출생률 데이터\n",
    "- 질병 대책 본부(CDC, Centre for Disease Control)에서 제공하고 자유롭게 사용할 수 있는 미국의 출생률 데이터를 살펴보자. \n",
    "- 이 데이터는 아래 URL 에서 다운받을 수 있다.\n",
    "- https://raw.githubusercontent.com/jakevdp/data-CDCbirths/master/births.csv"
   ]
  },
  {
   "cell_type": "code",
   "execution_count": 18,
   "metadata": {},
   "outputs": [],
   "source": [
    "# 데이터 다운로드를 위한 쉘 명령어\n",
    "# !curl -0 https://raw.githubusercontent.com/jakevdp/data-CDCbirths\n",
    "# master/births.csv\n",
    "import numpy as np\n",
    "import pandas as pd"
   ]
  },
  {
   "cell_type": "code",
   "execution_count": 39,
   "metadata": {},
   "outputs": [],
   "source": [
    "# 데이터의 Pandas 사용\n",
    "births=pd.read_csv('births.csv')"
   ]
  },
  {
   "cell_type": "code",
   "execution_count": 40,
   "metadata": {},
   "outputs": [
    {
     "name": "stdout",
     "output_type": "stream",
     "text": [
      "       year  month   day gender  births\n",
      "0      1969      1   1.0      F    4046\n",
      "1      1969      1   1.0      M    4440\n",
      "2      1969      1   2.0      F    4454\n",
      "3      1969      1   2.0      M    4548\n",
      "4      1969      1   3.0      F    4548\n",
      "5      1969      1   3.0      M    4994\n",
      "6      1969      1   4.0      F    4440\n",
      "7      1969      1   4.0      M    4520\n",
      "8      1969      1   5.0      F    4192\n",
      "9      1969      1   5.0      M    4198\n",
      "10     1969      1   6.0      F    4710\n",
      "11     1969      1   6.0      M    4850\n",
      "12     1969      1   7.0      F    4646\n",
      "13     1969      1   7.0      M    5092\n",
      "14     1969      1   8.0      F    4800\n",
      "15     1969      1   8.0      M    4934\n",
      "16     1969      1   9.0      F    4592\n",
      "17     1969      1   9.0      M    4842\n",
      "18     1969      1  10.0      F    4852\n",
      "19     1969      1  10.0      M    5190\n",
      "20     1969      1  11.0      F    4580\n",
      "21     1969      1  11.0      M    4598\n",
      "22     1969      1  12.0      F    4126\n",
      "23     1969      1  12.0      M    4324\n",
      "24     1969      1  13.0      F    4758\n",
      "25     1969      1  13.0      M    5076\n",
      "26     1969      1  14.0      F    5070\n",
      "27     1969      1  14.0      M    5296\n",
      "28     1969      1  15.0      F    4798\n",
      "29     1969      1  15.0      M    5096\n",
      "...     ...    ...   ...    ...     ...\n",
      "15517  2007     10   NaN      F  180912\n",
      "15518  2007     10   NaN      M  189157\n",
      "15519  2007     11   NaN      F  173513\n",
      "15520  2007     11   NaN      M  180814\n",
      "15521  2007     12   NaN      F  173787\n",
      "15522  2007     12   NaN      M  181426\n",
      "15523  2008      1   NaN      F  174255\n",
      "15524  2008      1   NaN      M  182789\n",
      "15525  2008      2   NaN      F  165669\n",
      "15526  2008      2   NaN      M  173434\n",
      "15527  2008      3   NaN      F  172053\n",
      "15528  2008      3   NaN      M  179129\n",
      "15529  2008      4   NaN      F  169585\n",
      "15530  2008      4   NaN      M  177399\n",
      "15531  2008      5   NaN      F  173141\n",
      "15532  2008      5   NaN      M  182294\n",
      "15533  2008      6   NaN      F  169958\n",
      "15534  2008      6   NaN      M  179267\n",
      "15535  2008      7   NaN      F  183391\n",
      "15536  2008      7   NaN      M  192714\n",
      "15537  2008      8   NaN      F  182713\n",
      "15538  2008      8   NaN      M  191315\n",
      "15539  2008      9   NaN      F  179696\n",
      "15540  2008      9   NaN      M  188964\n",
      "15541  2008     10   NaN      F  175314\n",
      "15542  2008     10   NaN      M  183219\n",
      "15543  2008     11   NaN      F  158939\n",
      "15544  2008     11   NaN      M  165468\n",
      "15545  2008     12   NaN      F  173215\n",
      "15546  2008     12   NaN      M  181235\n",
      "\n",
      "[15547 rows x 5 columns]\n"
     ]
    }
   ],
   "source": [
    "print(births)"
   ]
  },
  {
   "cell_type": "code",
   "execution_count": 41,
   "metadata": {},
   "outputs": [],
   "source": [
    "# 데이터 확인해보기\n",
    "\n",
    "\n",
    "births['decade'] = 10 * (births['year'] // 10)"
   ]
  },
  {
   "cell_type": "code",
   "execution_count": 44,
   "metadata": {},
   "outputs": [
    {
     "name": "stdout",
     "output_type": "stream",
     "text": [
      "gender        F        M\n",
      "year                    \n",
      "1969    1753634  1846572\n",
      "1970    1819164  1918636\n",
      "1971    1736774  1826774\n",
      "1972    1592347  1673888\n",
      "1973    1533102  1613023\n",
      "1974    1543005  1627626\n",
      "1975    1535546  1618010\n",
      "1976    1547613  1628863\n",
      "1977    1623363  1708796\n",
      "1978    1626324  1711976\n",
      "1979    1705837  1793958\n",
      "1980    1762459  1855522\n",
      "1981    1772037  1863478\n",
      "1982    1797239  1888218\n",
      "1983    1775299  1867522\n",
      "1984    1791802  1881766\n",
      "1985    1834774  1930290\n",
      "1986    1833708  1926987\n",
      "1987    1860111  1953105\n",
      "1988    1909210  2004583\n",
      "1989    1973712  2071981\n",
      "1990    2030966  2131951\n",
      "1991    2011601  2103741\n",
      "1992    1985118  2084310\n",
      "1993    1953456  2051067\n",
      "1994    1932234  2024691\n",
      "1995    1904871  1998141\n",
      "1996    1902664  1992210\n",
      "1997    1896928  1987401\n",
      "1998    1927106  2018086\n",
      "1999    1934510  2028955\n",
      "2000    1984255  2079568\n",
      "2001    1970770  2060761\n",
      "2002    1966519  2060857\n",
      "2003    1999387  2096705\n",
      "2004    2010710  2108197\n",
      "2005    2022892  2122727\n",
      "2006    2084957  2188268\n",
      "2007    2111890  2212118\n",
      "2008    2077929  2177227\n"
     ]
    }
   ],
   "source": [
    "# 피벗 테이블을 사용해 이 데이터를 좀 더 잘 이해할 수 있다.\n",
    "# decade 함수로 년도 열을 추가하고, 년도별 남녀의 출생 수를 살펴보자.\n",
    "births_pivot = births.pivot_table('births', index='year', columns='gender', aggfunc='sum')\n",
    "print(births_pivot)"
   ]
  },
  {
   "cell_type": "code",
   "execution_count": 45,
   "metadata": {},
   "outputs": [
    {
     "data": {
      "text/plain": [
       "Text(0,0.5,'total births per year')"
      ]
     },
     "execution_count": 45,
     "metadata": {},
     "output_type": "execute_result"
    },
    {
     "data": {
      "image/png": "[encoded data removed]",
      "text/plain": [
       "<matplotlib.figure.Figure at 0x1b266470b00>"
      ]
     },
     "metadata": {},
     "output_type": "display_data"
    }
   ],
   "source": [
    "%matplotlib inline\n",
    "import matplotlib.pyplot as plt\n",
    "#import seaborn; seaborn.set() #seaborn스타일 사용\n",
    "births_pivot.plot()\n",
    "plt.ylabel('total births per year')"
   ]
  },
  {
   "cell_type": "code",
   "execution_count": 46,
   "metadata": {},
   "outputs": [
    {
     "data": {
      "text/plain": [
       "Text(0,0.5,'total births per year')"
      ]
     },
     "execution_count": 46,
     "metadata": {},
     "output_type": "execute_result"
    },
    {
     "data": {
      "image/png": "[encoded data removed]",
      "text/plain": [
       "<matplotlib.figure.Figure at 0x1b2674b5fd0>"
      ]
     },
     "metadata": {},
     "output_type": "display_data"
    }
   ],
   "source": [
    "%matplotlib inline\n",
    "import matplotlib.pyplot as plt\n",
    "import seaborn; seaborn.set() #seaborn스타일 사용\n",
    "births_pivot.plot()\n",
    "plt.ylabel('total births per year')"
   ]
  },
  {
   "cell_type": "code",
   "execution_count": 26,
   "metadata": {
    "scrolled": true
   },
   "outputs": [],
   "source": [
    "# 위 부분합 데이터로 연도별 항상 남성의 출생률이 여성의 출생률 보다 높았음을 알 수 있다.\n",
    "# 이 추세를 더욱 분명하게 확인하기 위해 Pandas의 기본 플로팅 도구를 활용해 연도별 출생 수를 시각화한다.\n"
   ]
  },
  {
   "cell_type": "markdown",
   "metadata": {},
   "source": [
    "###### 결과\n",
    "- 남성 출생률이 항상 여성보다 높음.\n",
    "- 2007년에 출생률이 가장 높았음."
   ]
  },
  {
   "cell_type": "markdown",
   "metadata": {},
   "source": [
    "### 추가 데이터 탐색\n",
    "- Pandas 도구를 사용해 이 데이터세트에서 뽑아낼 수 있는 몇 가지 흥미로운 특징이 있다.\n",
    "- 먼저 데이터를 정제해야 한다. (날짜 오타와 누락된 값)으로 인한 이상치를 제거해야 한다.\n",
    "- 데이터를 한 번에 제거하는 쉬운 방법은 이상치를 제거하는 것으로 시그마 클리핑 연산을 통해 진행한다."
   ]
  },
  {
   "cell_type": "code",
   "execution_count": 51,
   "metadata": {},
   "outputs": [],
   "source": [
    "### 이 부분은 이해가 어려울 수 있으니 그냥 실행해 봅니다.\n",
    "quartiles = np.percentile(births['births'], [25,50,75])\n",
    "mu = quartiles[1]\n",
    "sig = 0.74 * (quartiles[2] - quartiles[0])\n",
    "# 마지막 줄은 표본 평균의 견고한 추정치로, 0.74는 가우스 분포의 사분위 수에서 비롯한 것이다.\n",
    "# 이와 함께 query() 메서드를 사용해 이 값에서 벗어난 출생 수를 가진 행을 걸러낼 수 있다.\n",
    "births = births.query('(births > @mu - 5 * @sig) & (births < @mu + 5 * @sig)')"
   ]
  },
  {
   "cell_type": "code",
   "execution_count": 52,
   "metadata": {},
   "outputs": [
    {
     "data": {
      "text/html": [
       "<div>\n",
       "<style scoped>\n",
       "    .dataframe tbody tr th:only-of-type {\n",
       "        vertical-align: middle;\n",
       "    }\n",
       "\n",
       "    .dataframe tbody tr th {\n",
       "        vertical-align: top;\n",
       "    }\n",
       "\n",
       "    .dataframe thead th {\n",
       "        text-align: right;\n",
       "    }\n",
       "</style>\n",
       "<table border=\"1\" class=\"dataframe\">\n",
       "  <thead>\n",
       "    <tr style=\"text-align: right;\">\n",
       "      <th></th>\n",
       "      <th>year</th>\n",
       "      <th>month</th>\n",
       "      <th>day</th>\n",
       "      <th>gender</th>\n",
       "      <th>births</th>\n",
       "      <th>decade</th>\n",
       "    </tr>\n",
       "  </thead>\n",
       "  <tbody>\n",
       "    <tr>\n",
       "      <th>15062</th>\n",
       "      <td>1988</td>\n",
       "      <td>12</td>\n",
       "      <td>29.0</td>\n",
       "      <td>M</td>\n",
       "      <td>5944</td>\n",
       "      <td>1980</td>\n",
       "    </tr>\n",
       "    <tr>\n",
       "      <th>15063</th>\n",
       "      <td>1988</td>\n",
       "      <td>12</td>\n",
       "      <td>30.0</td>\n",
       "      <td>F</td>\n",
       "      <td>5742</td>\n",
       "      <td>1980</td>\n",
       "    </tr>\n",
       "    <tr>\n",
       "      <th>15064</th>\n",
       "      <td>1988</td>\n",
       "      <td>12</td>\n",
       "      <td>30.0</td>\n",
       "      <td>M</td>\n",
       "      <td>6095</td>\n",
       "      <td>1980</td>\n",
       "    </tr>\n",
       "    <tr>\n",
       "      <th>15065</th>\n",
       "      <td>1988</td>\n",
       "      <td>12</td>\n",
       "      <td>31.0</td>\n",
       "      <td>F</td>\n",
       "      <td>4435</td>\n",
       "      <td>1980</td>\n",
       "    </tr>\n",
       "    <tr>\n",
       "      <th>15066</th>\n",
       "      <td>1988</td>\n",
       "      <td>12</td>\n",
       "      <td>31.0</td>\n",
       "      <td>M</td>\n",
       "      <td>4698</td>\n",
       "      <td>1980</td>\n",
       "    </tr>\n",
       "  </tbody>\n",
       "</table>\n",
       "</div>"
      ],
      "text/plain": [
       "       year  month   day gender  births  decade\n",
       "15062  1988     12  29.0      M    5944    1980\n",
       "15063  1988     12  30.0      F    5742    1980\n",
       "15064  1988     12  30.0      M    6095    1980\n",
       "15065  1988     12  31.0      F    4435    1980\n",
       "15066  1988     12  31.0      M    4698    1980"
      ]
     },
     "execution_count": 52,
     "metadata": {},
     "output_type": "execute_result"
    }
   ],
   "source": [
    "# 데이터를 확인해본다.\n",
    "births.tail()"
   ]
  },
  {
   "cell_type": "code",
   "execution_count": 55,
   "metadata": {},
   "outputs": [
    {
     "name": "stdout",
     "output_type": "stream",
     "text": [
      "       year  month  day gender  births  decade\n",
      "0      1969      1    1      F    4046    1960\n",
      "1      1969      1    1      M    4440    1960\n",
      "2      1969      1    2      F    4454    1960\n",
      "3      1969      1    2      M    4548    1960\n",
      "4      1969      1    3      F    4548    1960\n",
      "5      1969      1    3      M    4994    1960\n",
      "6      1969      1    4      F    4440    1960\n",
      "7      1969      1    4      M    4520    1960\n",
      "8      1969      1    5      F    4192    1960\n",
      "9      1969      1    5      M    4198    1960\n",
      "10     1969      1    6      F    4710    1960\n",
      "11     1969      1    6      M    4850    1960\n",
      "12     1969      1    7      F    4646    1960\n",
      "13     1969      1    7      M    5092    1960\n",
      "14     1969      1    8      F    4800    1960\n",
      "15     1969      1    8      M    4934    1960\n",
      "16     1969      1    9      F    4592    1960\n",
      "17     1969      1    9      M    4842    1960\n",
      "18     1969      1   10      F    4852    1960\n",
      "19     1969      1   10      M    5190    1960\n",
      "20     1969      1   11      F    4580    1960\n",
      "21     1969      1   11      M    4598    1960\n",
      "22     1969      1   12      F    4126    1960\n",
      "23     1969      1   12      M    4324    1960\n",
      "24     1969      1   13      F    4758    1960\n",
      "25     1969      1   13      M    5076    1960\n",
      "26     1969      1   14      F    5070    1960\n",
      "27     1969      1   14      M    5296    1960\n",
      "28     1969      1   15      F    4798    1960\n",
      "29     1969      1   15      M    5096    1960\n",
      "...     ...    ...  ...    ...     ...     ...\n",
      "15037  1988     12   17      F    4270    1980\n",
      "15038  1988     12   17      M    4486    1980\n",
      "15039  1988     12   18      F    4211    1980\n",
      "15040  1988     12   18      M    4220    1980\n",
      "15041  1988     12   19      F    5651    1980\n",
      "15042  1988     12   19      M    6065    1980\n",
      "15043  1988     12   20      F    6092    1980\n",
      "15044  1988     12   20      M    6343    1980\n",
      "15045  1988     12   21      F    5462    1980\n",
      "15046  1988     12   21      M    5861    1980\n",
      "15047  1988     12   22      F    5219    1980\n",
      "15048  1988     12   22      M    5510    1980\n",
      "15049  1988     12   23      F    4887    1980\n",
      "15050  1988     12   23      M    5110    1980\n",
      "15051  1988     12   24      F    4024    1980\n",
      "15052  1988     12   24      M    4269    1980\n",
      "15053  1988     12   25      F    3874    1980\n",
      "15054  1988     12   25      M    3961    1980\n",
      "15055  1988     12   26      F    4274    1980\n",
      "15056  1988     12   26      M    4409    1980\n",
      "15057  1988     12   27      F    5633    1980\n",
      "15058  1988     12   27      M    5895    1980\n",
      "15059  1988     12   28      F    5858    1980\n",
      "15060  1988     12   28      M    5989    1980\n",
      "15061  1988     12   29      F    5760    1980\n",
      "15062  1988     12   29      M    5944    1980\n",
      "15063  1988     12   30      F    5742    1980\n",
      "15064  1988     12   30      M    6095    1980\n",
      "15065  1988     12   31      F    4435    1980\n",
      "15066  1988     12   31      M    4698    1980\n",
      "\n",
      "[14610 rows x 6 columns]\n"
     ]
    },
    {
     "name": "stderr",
     "output_type": "stream",
     "text": [
      "c:\\programdata\\miniconda3\\lib\\site-packages\\ipykernel_launcher.py:3: SettingWithCopyWarning: \n",
      "A value is trying to be set on a copy of a slice from a DataFrame.\n",
      "Try using .loc[row_indexer,col_indexer] = value instead\n",
      "\n",
      "See the caveats in the documentation: http://pandas.pydata.org/pandas-docs/stable/indexing.html#indexing-view-versus-copy\n",
      "  This is separate from the ipykernel package so we can avoid doing imports until\n"
     ]
    }
   ],
   "source": [
    "# 데이터를 전처리한다.\n",
    "# 'day' 열을 정수형으로 설정; 원래는 널 값 때문에 문자열이었음.\n",
    "births['day'] = births['day'].astype(int)\n",
    "print(births)"
   ]
  },
  {
   "cell_type": "code",
   "execution_count": 54,
   "metadata": {},
   "outputs": [
    {
     "data": {
      "text/html": [
       "<div>\n",
       "<style scoped>\n",
       "    .dataframe tbody tr th:only-of-type {\n",
       "        vertical-align: middle;\n",
       "    }\n",
       "\n",
       "    .dataframe tbody tr th {\n",
       "        vertical-align: top;\n",
       "    }\n",
       "\n",
       "    .dataframe thead th {\n",
       "        text-align: right;\n",
       "    }\n",
       "</style>\n",
       "<table border=\"1\" class=\"dataframe\">\n",
       "  <thead>\n",
       "    <tr style=\"text-align: right;\">\n",
       "      <th></th>\n",
       "      <th>year</th>\n",
       "      <th>month</th>\n",
       "      <th>day</th>\n",
       "      <th>gender</th>\n",
       "      <th>births</th>\n",
       "      <th>decade</th>\n",
       "    </tr>\n",
       "  </thead>\n",
       "  <tbody>\n",
       "    <tr>\n",
       "      <th>15062</th>\n",
       "      <td>1988</td>\n",
       "      <td>12</td>\n",
       "      <td>29</td>\n",
       "      <td>M</td>\n",
       "      <td>5944</td>\n",
       "      <td>1980</td>\n",
       "    </tr>\n",
       "    <tr>\n",
       "      <th>15063</th>\n",
       "      <td>1988</td>\n",
       "      <td>12</td>\n",
       "      <td>30</td>\n",
       "      <td>F</td>\n",
       "      <td>5742</td>\n",
       "      <td>1980</td>\n",
       "    </tr>\n",
       "    <tr>\n",
       "      <th>15064</th>\n",
       "      <td>1988</td>\n",
       "      <td>12</td>\n",
       "      <td>30</td>\n",
       "      <td>M</td>\n",
       "      <td>6095</td>\n",
       "      <td>1980</td>\n",
       "    </tr>\n",
       "    <tr>\n",
       "      <th>15065</th>\n",
       "      <td>1988</td>\n",
       "      <td>12</td>\n",
       "      <td>31</td>\n",
       "      <td>F</td>\n",
       "      <td>4435</td>\n",
       "      <td>1980</td>\n",
       "    </tr>\n",
       "    <tr>\n",
       "      <th>15066</th>\n",
       "      <td>1988</td>\n",
       "      <td>12</td>\n",
       "      <td>31</td>\n",
       "      <td>M</td>\n",
       "      <td>4698</td>\n",
       "      <td>1980</td>\n",
       "    </tr>\n",
       "  </tbody>\n",
       "</table>\n",
       "</div>"
      ],
      "text/plain": [
       "       year  month  day gender  births  decade\n",
       "15062  1988     12   29      M    5944    1980\n",
       "15063  1988     12   30      F    5742    1980\n",
       "15064  1988     12   30      M    6095    1980\n",
       "15065  1988     12   31      F    4435    1980\n",
       "15066  1988     12   31      M    4698    1980"
      ]
     },
     "execution_count": 54,
     "metadata": {},
     "output_type": "execute_result"
    }
   ],
   "source": [
    "births.tail()"
   ]
  },
  {
   "cell_type": "code",
   "execution_count": 58,
   "metadata": {},
   "outputs": [],
   "source": [
    "# 마지막으로 날짜, 월, 연도를 겳합해 Date 인덱스를 생성할 수 있다.\n",
    "# 이렇게 하면 각 행에 대응하는 요일을 빠르게 계산할 수 있다.\n",
    "# 년(year), 월(month), 일(day)로부터 날짜(datetime) 인덱스 생성\n",
    "births.index = pd.to_datetime(10000 * births.year +\n",
    "                             100 * births.month +\n",
    "                             births.day, format='%Y%m%d')\n",
    "births['dayofweek'] = births.index.dayofweek"
   ]
  },
  {
   "cell_type": "code",
   "execution_count": 59,
   "metadata": {},
   "outputs": [
    {
     "data": {
      "text/html": [
       "<div>\n",
       "<style scoped>\n",
       "    .dataframe tbody tr th:only-of-type {\n",
       "        vertical-align: middle;\n",
       "    }\n",
       "\n",
       "    .dataframe tbody tr th {\n",
       "        vertical-align: top;\n",
       "    }\n",
       "\n",
       "    .dataframe thead th {\n",
       "        text-align: right;\n",
       "    }\n",
       "</style>\n",
       "<table border=\"1\" class=\"dataframe\">\n",
       "  <thead>\n",
       "    <tr style=\"text-align: right;\">\n",
       "      <th>decade</th>\n",
       "      <th>1960</th>\n",
       "      <th>1970</th>\n",
       "      <th>1980</th>\n",
       "    </tr>\n",
       "    <tr>\n",
       "      <th>dayofweek</th>\n",
       "      <th></th>\n",
       "      <th></th>\n",
       "      <th></th>\n",
       "    </tr>\n",
       "  </thead>\n",
       "  <tbody>\n",
       "    <tr>\n",
       "      <th>0</th>\n",
       "      <td>5063.826923</td>\n",
       "      <td>4689.097701</td>\n",
       "      <td>5276.907249</td>\n",
       "    </tr>\n",
       "    <tr>\n",
       "      <th>1</th>\n",
       "      <td>5286.096154</td>\n",
       "      <td>4885.252399</td>\n",
       "      <td>5503.842553</td>\n",
       "    </tr>\n",
       "    <tr>\n",
       "      <th>2</th>\n",
       "      <td>5074.622642</td>\n",
       "      <td>4750.376200</td>\n",
       "      <td>5367.642553</td>\n",
       "    </tr>\n",
       "    <tr>\n",
       "      <th>3</th>\n",
       "      <td>4978.288462</td>\n",
       "      <td>4696.923372</td>\n",
       "      <td>5333.485106</td>\n",
       "    </tr>\n",
       "    <tr>\n",
       "      <th>4</th>\n",
       "      <td>5107.884615</td>\n",
       "      <td>4782.095785</td>\n",
       "      <td>5393.087234</td>\n",
       "    </tr>\n",
       "    <tr>\n",
       "      <th>5</th>\n",
       "      <td>4651.057692</td>\n",
       "      <td>4207.784483</td>\n",
       "      <td>4483.901064</td>\n",
       "    </tr>\n",
       "    <tr>\n",
       "      <th>6</th>\n",
       "      <td>4342.346154</td>\n",
       "      <td>3979.278736</td>\n",
       "      <td>4308.120469</td>\n",
       "    </tr>\n",
       "  </tbody>\n",
       "</table>\n",
       "</div>"
      ],
      "text/plain": [
       "decade            1960         1970         1980\n",
       "dayofweek                                       \n",
       "0          5063.826923  4689.097701  5276.907249\n",
       "1          5286.096154  4885.252399  5503.842553\n",
       "2          5074.622642  4750.376200  5367.642553\n",
       "3          4978.288462  4696.923372  5333.485106\n",
       "4          5107.884615  4782.095785  5393.087234\n",
       "5          4651.057692  4207.784483  4483.901064\n",
       "6          4342.346154  3979.278736  4308.120469"
      ]
     },
     "execution_count": 59,
     "metadata": {},
     "output_type": "execute_result"
    }
   ],
   "source": [
    "# 이 인덱스를 이용해 수십 년 동안의 요일별 출생 수를 그래프로 그릴 수 있다.\n",
    "\n",
    "\n",
    "import matplotlib.pyplot as plt\n",
    "import matplotlib as mpl\n",
    "\n",
    "births.pivot_table('births', index='dayofweek', columns='decade', aggfunc='mean')"
   ]
  },
  {
   "cell_type": "code",
   "execution_count": 60,
   "metadata": {},
   "outputs": [
    {
     "data": {
      "image/png": "[encoded data removed]",
      "text/plain": [
       "<matplotlib.figure.Figure at 0x1b266474fd0>"
      ]
     },
     "metadata": {},
     "output_type": "display_data"
    }
   ],
   "source": [
    "### 수십년 동안의 요일별 출생수를 그래프로 그린다.\n",
    "# 출생 수가 주중보다 주말에 약간 더 낮은 것을 확인할 수 있다!\n",
    "# 1990년 대와 2000년 대는 없는데, CDC 데이터가 1989년을 기점으로 태어난 년월만 포함하고 있기 때문이다.\n",
    "births.pivot_table('births', index='dayofweek', columns='decade', aggfunc='mean').plot()\n",
    "plt.gca().set_xticklabels(['Mon', 'Tues', 'Wed', 'Thurs', 'Fri', 'Sat', 'Sun'])\n",
    "plt.ylabel('mean births by day');"
   ]
  },
  {
   "cell_type": "code",
   "execution_count": 61,
   "metadata": {},
   "outputs": [
    {
     "data": {
      "text/html": [
       "<div>\n",
       "<style scoped>\n",
       "    .dataframe tbody tr th:only-of-type {\n",
       "        vertical-align: middle;\n",
       "    }\n",
       "\n",
       "    .dataframe tbody tr th {\n",
       "        vertical-align: top;\n",
       "    }\n",
       "\n",
       "    .dataframe thead th {\n",
       "        text-align: right;\n",
       "    }\n",
       "</style>\n",
       "<table border=\"1\" class=\"dataframe\">\n",
       "  <thead>\n",
       "    <tr style=\"text-align: right;\">\n",
       "      <th></th>\n",
       "      <th></th>\n",
       "      <th>births</th>\n",
       "    </tr>\n",
       "  </thead>\n",
       "  <tbody>\n",
       "    <tr>\n",
       "      <th rowspan=\"30\" valign=\"top\">1</th>\n",
       "      <th>1</th>\n",
       "      <td>4009.225</td>\n",
       "    </tr>\n",
       "    <tr>\n",
       "      <th>2</th>\n",
       "      <td>4247.400</td>\n",
       "    </tr>\n",
       "    <tr>\n",
       "      <th>3</th>\n",
       "      <td>4500.900</td>\n",
       "    </tr>\n",
       "    <tr>\n",
       "      <th>4</th>\n",
       "      <td>4571.350</td>\n",
       "    </tr>\n",
       "    <tr>\n",
       "      <th>5</th>\n",
       "      <td>4603.625</td>\n",
       "    </tr>\n",
       "    <tr>\n",
       "      <th>6</th>\n",
       "      <td>4668.150</td>\n",
       "    </tr>\n",
       "    <tr>\n",
       "      <th>7</th>\n",
       "      <td>4706.925</td>\n",
       "    </tr>\n",
       "    <tr>\n",
       "      <th>8</th>\n",
       "      <td>4629.650</td>\n",
       "    </tr>\n",
       "    <tr>\n",
       "      <th>9</th>\n",
       "      <td>4537.775</td>\n",
       "    </tr>\n",
       "    <tr>\n",
       "      <th>10</th>\n",
       "      <td>4591.700</td>\n",
       "    </tr>\n",
       "    <tr>\n",
       "      <th>11</th>\n",
       "      <td>4675.150</td>\n",
       "    </tr>\n",
       "    <tr>\n",
       "      <th>12</th>\n",
       "      <td>4700.800</td>\n",
       "    </tr>\n",
       "    <tr>\n",
       "      <th>13</th>\n",
       "      <td>4730.050</td>\n",
       "    </tr>\n",
       "    <tr>\n",
       "      <th>14</th>\n",
       "      <td>4816.200</td>\n",
       "    </tr>\n",
       "    <tr>\n",
       "      <th>15</th>\n",
       "      <td>4733.650</td>\n",
       "    </tr>\n",
       "    <tr>\n",
       "      <th>16</th>\n",
       "      <td>4665.025</td>\n",
       "    </tr>\n",
       "    <tr>\n",
       "      <th>17</th>\n",
       "      <td>4654.650</td>\n",
       "    </tr>\n",
       "    <tr>\n",
       "      <th>18</th>\n",
       "      <td>4707.325</td>\n",
       "    </tr>\n",
       "    <tr>\n",
       "      <th>19</th>\n",
       "      <td>4731.525</td>\n",
       "    </tr>\n",
       "    <tr>\n",
       "      <th>20</th>\n",
       "      <td>4767.525</td>\n",
       "    </tr>\n",
       "    <tr>\n",
       "      <th>21</th>\n",
       "      <td>4790.250</td>\n",
       "    </tr>\n",
       "    <tr>\n",
       "      <th>22</th>\n",
       "      <td>4742.800</td>\n",
       "    </tr>\n",
       "    <tr>\n",
       "      <th>23</th>\n",
       "      <td>4666.750</td>\n",
       "    </tr>\n",
       "    <tr>\n",
       "      <th>24</th>\n",
       "      <td>4653.200</td>\n",
       "    </tr>\n",
       "    <tr>\n",
       "      <th>25</th>\n",
       "      <td>4698.000</td>\n",
       "    </tr>\n",
       "    <tr>\n",
       "      <th>26</th>\n",
       "      <td>4715.900</td>\n",
       "    </tr>\n",
       "    <tr>\n",
       "      <th>27</th>\n",
       "      <td>4747.025</td>\n",
       "    </tr>\n",
       "    <tr>\n",
       "      <th>28</th>\n",
       "      <td>4771.800</td>\n",
       "    </tr>\n",
       "    <tr>\n",
       "      <th>29</th>\n",
       "      <td>4702.300</td>\n",
       "    </tr>\n",
       "    <tr>\n",
       "      <th>30</th>\n",
       "      <td>4644.225</td>\n",
       "    </tr>\n",
       "    <tr>\n",
       "      <th>...</th>\n",
       "      <th>...</th>\n",
       "      <td>...</td>\n",
       "    </tr>\n",
       "    <tr>\n",
       "      <th rowspan=\"30\" valign=\"top\">12</th>\n",
       "      <th>2</th>\n",
       "      <td>4830.300</td>\n",
       "    </tr>\n",
       "    <tr>\n",
       "      <th>3</th>\n",
       "      <td>4758.500</td>\n",
       "    </tr>\n",
       "    <tr>\n",
       "      <th>4</th>\n",
       "      <td>4718.725</td>\n",
       "    </tr>\n",
       "    <tr>\n",
       "      <th>5</th>\n",
       "      <td>4734.675</td>\n",
       "    </tr>\n",
       "    <tr>\n",
       "      <th>6</th>\n",
       "      <td>4683.050</td>\n",
       "    </tr>\n",
       "    <tr>\n",
       "      <th>7</th>\n",
       "      <td>4704.325</td>\n",
       "    </tr>\n",
       "    <tr>\n",
       "      <th>8</th>\n",
       "      <td>4803.800</td>\n",
       "    </tr>\n",
       "    <tr>\n",
       "      <th>9</th>\n",
       "      <td>4793.825</td>\n",
       "    </tr>\n",
       "    <tr>\n",
       "      <th>10</th>\n",
       "      <td>4785.325</td>\n",
       "    </tr>\n",
       "    <tr>\n",
       "      <th>11</th>\n",
       "      <td>4738.500</td>\n",
       "    </tr>\n",
       "    <tr>\n",
       "      <th>12</th>\n",
       "      <td>4791.300</td>\n",
       "    </tr>\n",
       "    <tr>\n",
       "      <th>13</th>\n",
       "      <td>4676.675</td>\n",
       "    </tr>\n",
       "    <tr>\n",
       "      <th>14</th>\n",
       "      <td>4792.100</td>\n",
       "    </tr>\n",
       "    <tr>\n",
       "      <th>15</th>\n",
       "      <td>4920.800</td>\n",
       "    </tr>\n",
       "    <tr>\n",
       "      <th>16</th>\n",
       "      <td>4968.100</td>\n",
       "    </tr>\n",
       "    <tr>\n",
       "      <th>17</th>\n",
       "      <td>4951.600</td>\n",
       "    </tr>\n",
       "    <tr>\n",
       "      <th>18</th>\n",
       "      <td>4936.375</td>\n",
       "    </tr>\n",
       "    <tr>\n",
       "      <th>19</th>\n",
       "      <td>4962.925</td>\n",
       "    </tr>\n",
       "    <tr>\n",
       "      <th>20</th>\n",
       "      <td>4877.025</td>\n",
       "    </tr>\n",
       "    <tr>\n",
       "      <th>21</th>\n",
       "      <td>4816.100</td>\n",
       "    </tr>\n",
       "    <tr>\n",
       "      <th>22</th>\n",
       "      <td>4661.925</td>\n",
       "    </tr>\n",
       "    <tr>\n",
       "      <th>23</th>\n",
       "      <td>4466.675</td>\n",
       "    </tr>\n",
       "    <tr>\n",
       "      <th>24</th>\n",
       "      <td>4126.250</td>\n",
       "    </tr>\n",
       "    <tr>\n",
       "      <th>25</th>\n",
       "      <td>3844.450</td>\n",
       "    </tr>\n",
       "    <tr>\n",
       "      <th>26</th>\n",
       "      <td>4383.525</td>\n",
       "    </tr>\n",
       "    <tr>\n",
       "      <th>27</th>\n",
       "      <td>4850.150</td>\n",
       "    </tr>\n",
       "    <tr>\n",
       "      <th>28</th>\n",
       "      <td>5044.200</td>\n",
       "    </tr>\n",
       "    <tr>\n",
       "      <th>29</th>\n",
       "      <td>5120.150</td>\n",
       "    </tr>\n",
       "    <tr>\n",
       "      <th>30</th>\n",
       "      <td>5172.350</td>\n",
       "    </tr>\n",
       "    <tr>\n",
       "      <th>31</th>\n",
       "      <td>4859.200</td>\n",
       "    </tr>\n",
       "  </tbody>\n",
       "</table>\n",
       "<p>366 rows × 1 columns</p>\n",
       "</div>"
      ],
      "text/plain": [
       "         births\n",
       "1  1   4009.225\n",
       "   2   4247.400\n",
       "   3   4500.900\n",
       "   4   4571.350\n",
       "   5   4603.625\n",
       "   6   4668.150\n",
       "   7   4706.925\n",
       "   8   4629.650\n",
       "   9   4537.775\n",
       "   10  4591.700\n",
       "   11  4675.150\n",
       "   12  4700.800\n",
       "   13  4730.050\n",
       "   14  4816.200\n",
       "   15  4733.650\n",
       "   16  4665.025\n",
       "   17  4654.650\n",
       "   18  4707.325\n",
       "   19  4731.525\n",
       "   20  4767.525\n",
       "   21  4790.250\n",
       "   22  4742.800\n",
       "   23  4666.750\n",
       "   24  4653.200\n",
       "   25  4698.000\n",
       "   26  4715.900\n",
       "   27  4747.025\n",
       "   28  4771.800\n",
       "   29  4702.300\n",
       "   30  4644.225\n",
       "...         ...\n",
       "12 2   4830.300\n",
       "   3   4758.500\n",
       "   4   4718.725\n",
       "   5   4734.675\n",
       "   6   4683.050\n",
       "   7   4704.325\n",
       "   8   4803.800\n",
       "   9   4793.825\n",
       "   10  4785.325\n",
       "   11  4738.500\n",
       "   12  4791.300\n",
       "   13  4676.675\n",
       "   14  4792.100\n",
       "   15  4920.800\n",
       "   16  4968.100\n",
       "   17  4951.600\n",
       "   18  4936.375\n",
       "   19  4962.925\n",
       "   20  4877.025\n",
       "   21  4816.100\n",
       "   22  4661.925\n",
       "   23  4466.675\n",
       "   24  4126.250\n",
       "   25  3844.450\n",
       "   26  4383.525\n",
       "   27  4850.150\n",
       "   28  5044.200\n",
       "   29  5120.150\n",
       "   30  5172.350\n",
       "   31  4859.200\n",
       "\n",
       "[366 rows x 1 columns]"
      ]
     },
     "execution_count": 61,
     "metadata": {},
     "output_type": "execute_result"
    }
   ],
   "source": [
    "# 또 다른 흥미로운 관점은 연도 내 일별 평균 출생 수를 그래프로 나타내는 것이다.\n",
    "# 먼저 데이터를 월과 일별로 분류하자.\n",
    "births_by_date = births.pivot_table('births', [births.index.month, births.index.day])\n",
    "births_by_date"
   ]
  },
  {
   "cell_type": "code",
   "execution_count": 62,
   "metadata": {},
   "outputs": [],
   "source": [
    "# 결과로 월과 일을 인덱스로 가지는 다중 인덱스를 얻게 된다.\n",
    "# 그래프로 쉽게 표현하기 위해 이 월과 일을 더미 연도 변수와 결합해 연월일의 날짜로 변환해 보자. 2012년만 본다.\n",
    "# 2월 29일을 올바르게 처리하도록 윤년을 선택해야 한다. \n",
    "births_by_date.index = [pd.datetime(2012, month, day) for (month, day) in births_by_date.index]"
   ]
  },
  {
   "cell_type": "code",
   "execution_count": 63,
   "metadata": {
    "scrolled": true
   },
   "outputs": [
    {
     "data": {
      "text/html": [
       "<div>\n",
       "<style scoped>\n",
       "    .dataframe tbody tr th:only-of-type {\n",
       "        vertical-align: middle;\n",
       "    }\n",
       "\n",
       "    .dataframe tbody tr th {\n",
       "        vertical-align: top;\n",
       "    }\n",
       "\n",
       "    .dataframe thead th {\n",
       "        text-align: right;\n",
       "    }\n",
       "</style>\n",
       "<table border=\"1\" class=\"dataframe\">\n",
       "  <thead>\n",
       "    <tr style=\"text-align: right;\">\n",
       "      <th></th>\n",
       "      <th>births</th>\n",
       "    </tr>\n",
       "  </thead>\n",
       "  <tbody>\n",
       "    <tr>\n",
       "      <th>2012-01-01</th>\n",
       "      <td>4009.225</td>\n",
       "    </tr>\n",
       "    <tr>\n",
       "      <th>2012-01-02</th>\n",
       "      <td>4247.400</td>\n",
       "    </tr>\n",
       "    <tr>\n",
       "      <th>2012-01-03</th>\n",
       "      <td>4500.900</td>\n",
       "    </tr>\n",
       "    <tr>\n",
       "      <th>2012-01-04</th>\n",
       "      <td>4571.350</td>\n",
       "    </tr>\n",
       "    <tr>\n",
       "      <th>2012-01-05</th>\n",
       "      <td>4603.625</td>\n",
       "    </tr>\n",
       "  </tbody>\n",
       "</table>\n",
       "</div>"
      ],
      "text/plain": [
       "              births\n",
       "2012-01-01  4009.225\n",
       "2012-01-02  4247.400\n",
       "2012-01-03  4500.900\n",
       "2012-01-04  4571.350\n",
       "2012-01-05  4603.625"
      ]
     },
     "execution_count": 63,
     "metadata": {},
     "output_type": "execute_result"
    }
   ],
   "source": [
    "# 데이터 확인\n",
    "births_by_date.head()"
   ]
  },
  {
   "cell_type": "code",
   "execution_count": 64,
   "metadata": {},
   "outputs": [
    {
     "data": {
      "image/png": "[encoded data removed]",
      "text/plain": [
       "<matplotlib.figure.Figure at 0x1b26aadfda0>"
      ]
     },
     "metadata": {},
     "output_type": "display_data"
    }
   ],
   "source": [
    "#월과 일에만 초점을 맞춰 이제 해당 연도의 날짜별 평균 출생 수를 나타내는 시계열 데이터가 만들어졌다.\n",
    "# 이로부터 데이터를 플로팅하기 위해 plot 메서드를 사용할 수 있다.\n",
    "fig, ax = plt.subplots(figsize=(12, 4))\n",
    "births_by_date.plot(ax=ax);"
   ]
  },
  {
   "cell_type": "markdown",
   "metadata": {},
   "source": [
    "## <결론>\n",
    "#### 특히 이 그래프에서 확인할 수 있는 놀라운 점은 미국의 휴일(예: 독립 기념일(7/4), 노동절(9월 첫째주 월요일), 추수감사절(11월 넷째주 목요일), 크리스마스(12/25), 새해(1/1)에는 출생률이 급감했다는 것이다.\n",
    "#### 이 현상은 자연 분만에 대한 깊은 정신적, 신체적 효과라기 보다는 예정 분만 및 유도 분만을 선호했던 경향이 반영된 것으로 보인다."
   ]
  },
  {
   "cell_type": "markdown",
   "metadata": {},
   "source": [
    "# Chart"
   ]
  },
  {
   "cell_type": "markdown",
   "metadata": {},
   "source": [
    "## 1. matplotlib\n",
    "- matplotlib.pyplot 모듈을 사용한다.\n",
    "- pyplot은 시각화를 단계별로 간편하게 만들 수 있는 구조로 되어 있다.\n",
    "- 시각화가 완성되면 savefig()을 통해 그래프를 저장하거나 show()를 사용하여 화면에 띄울 수 있다."
   ]
  },
  {
   "cell_type": "code",
   "execution_count": 3,
   "metadata": {},
   "outputs": [],
   "source": [
    "# matplotlib에서 pyplot 모듈을 약어로 \"plt\"를 사용하여 import 한다.\n",
    "from matplotlib import pyplot as plt\n",
    "from collections import defaultdict, Counter"
   ]
  },
  {
   "cell_type": "code",
   "execution_count": 4,
   "metadata": {},
   "outputs": [],
   "source": [
    "# 10년 단위별 GDP 정보를 입력한다.\n",
    "years = [1950, 1960, 1970, 1980, 1990, 2000, 2010]\n",
    "gdp = [300.2, 543.3, 1075.9, 2862.5, 5979.6, 10289.7, 14958.3]"
   ]
  },
  {
   "cell_type": "code",
   "execution_count": 11,
   "metadata": {},
   "outputs": [
    {
     "data": {
      "text/plain": [
       "[<matplotlib.lines.Line2D at 0x1b2653cfac8>]"
      ]
     },
     "execution_count": 11,
     "metadata": {},
     "output_type": "execute_result"
    },
    {
     "data": {
      "image/png": "[encoded data removed]",
      "text/plain": [
       "<matplotlib.figure.Figure at 0x1b26510d710>"
      ]
     },
     "metadata": {},
     "output_type": "display_data"
    }
   ],
   "source": [
    "# x축에 연도, y축에 GDP가 있는 선 그래프를 만들자\n",
    "%matplotlib inline\n",
    "plt.plot(years, gdp, color='green', marker='o', linestyle='solid')"
   ]
  },
  {
   "cell_type": "markdown",
   "metadata": {},
   "source": [
    "## 2. Bar chart\n",
    "- 막대 그래프는 이산적인 항목들에 대한 변화를 보여줄 때 사용하면 좋다.\n",
    "- 여러 영화가 아카데미 시상식에서 상을 각각 몇 개 받았는지 확인해 보자."
   ]
  },
  {
   "cell_type": "code",
   "execution_count": 12,
   "metadata": {},
   "outputs": [],
   "source": [
    "# movies에는 영화제목을, num_oscars에는 수상횟수를 저장한다.\n",
    "# 오스카상 시상한 영화\n",
    "movies = [\"Annie Hall\", \"Ben-Hur\", \"Casablanca\", \"Gandhi\", \"West Side Story\"]\n",
    "num_oscars = [5, 11, 3, 8, 10]"
   ]
  },
  {
   "cell_type": "code",
   "execution_count": 13,
   "metadata": {},
   "outputs": [],
   "source": [
    "# 막대가 가운데로 올 수 있도록 왼쪽 좌표에 0.5씩 더해 주자.\n",
    "xs = [i+0.5 for i, _ in enumerate(movies)]"
   ]
  },
  {
   "cell_type": "code",
   "execution_count": 15,
   "metadata": {
    "scrolled": true
   },
   "outputs": [
    {
     "data": {
      "image/png": "[encoded data removed]",
      "text/plain": [
       "<matplotlib.figure.Figure at 0x1b26544eef0>"
      ]
     },
     "metadata": {},
     "output_type": "display_data"
    }
   ],
   "source": [
    "# 왼편으로부터 x축의 위치가 xs이고 높이가 num_oscars인 막대를 그리자.\n",
    "plt.bar(xs, num_oscars)  # 그래프를 그려라\n",
    "plt.ylabel(\"# of Academy Awards\")  # y축이름\n",
    "plt.title(\"my Favorite Movies\") # 그래프 제목\n",
    "plt.xticks([i + 0.5 for i, _ in enumerate(movies)], movies) # x축 간격\n",
    "plt.show()"
   ]
  },
  {
   "cell_type": "code",
   "execution_count": 52,
   "metadata": {
    "collapsed": true
   },
   "outputs": [],
   "source": [
    "# 막대의 가운데에 오도록 영화 제목 레이블을 달자.\n"
   ]
  },
  {
   "cell_type": "markdown",
   "metadata": {},
   "source": [
    "## 3. Scatterplots\n",
    "- 산점도는 두 변수 간의 연관 관계를 보여 주고 싶을 때 적합한 형태의 그래프이다.\n",
    "- 예를 들어, 각 사용자의 친구 수와 그들이 매일 사이트에 체류하는 시간 사이의 연관성을 보여준다."
   ]
  },
  {
   "cell_type": "code",
   "execution_count": 16,
   "metadata": {},
   "outputs": [],
   "source": [
    "friends = [70, 65, 72, 63, 71, 64, 60, 64, 67] #개인의 친구수\n",
    "minutes = [175, 170, 205, 120, 220, 130, 105, 145, 190] #개인의 웹사용률\n",
    "labels = ['a', 'b', 'c', 'd', 'e', 'f', 'g', 'h', 'i']"
   ]
  },
  {
   "cell_type": "code",
   "execution_count": 17,
   "metadata": {
    "scrolled": true
   },
   "outputs": [
    {
     "data": {
      "image/png": "[encoded data removed]",
      "text/plain": [
       "<matplotlib.figure.Figure at 0x1b26543a710>"
      ]
     },
     "metadata": {},
     "output_type": "display_data"
    }
   ],
   "source": [
    "# 각 포인트에 레이블을 달자.\n",
    "plt.scatter(friends, minutes)\n",
    "for label, friend_count, minute_count in zip(labels, friends, minutes):\n",
    "    plt.annotate(label,\n",
    "                xy=(friend_count, minute_count),\n",
    "                xytext=(5,-5),\n",
    "                textcoords='offset points')"
   ]
  },
  {
   "cell_type": "code",
   "execution_count": null,
   "metadata": {},
   "outputs": [],
   "source": []
  },
  {
   "cell_type": "code",
   "execution_count": null,
   "metadata": {},
   "outputs": [],
   "source": []
  },
  {
   "cell_type": "code",
   "execution_count": null,
   "metadata": {},
   "outputs": [],
   "source": []
  },
  {
   "cell_type": "code",
   "execution_count": null,
   "metadata": {},
   "outputs": [],
   "source": []
  },
  {
   "cell_type": "code",
   "execution_count": null,
   "metadata": {},
   "outputs": [],
   "source": []
  },
  {
   "cell_type": "code",
   "execution_count": null,
   "metadata": {},
   "outputs": [],
   "source": []
  },
  {
   "cell_type": "code",
   "execution_count": null,
   "metadata": {},
   "outputs": [],
   "source": []
  },
  {
   "cell_type": "code",
   "execution_count": null,
   "metadata": {},
   "outputs": [],
   "source": []
  },
  {
   "cell_type": "code",
   "execution_count": null,
   "metadata": {},
   "outputs": [],
   "source": []
  },
  {
   "cell_type": "code",
   "execution_count": null,
   "metadata": {},
   "outputs": [],
   "source": []
  },
  {
   "cell_type": "code",
   "execution_count": null,
   "metadata": {},
   "outputs": [],
   "source": []
  },
  {
   "cell_type": "code",
   "execution_count": null,
   "metadata": {},
   "outputs": [],
   "source": []
  },
  {
   "cell_type": "code",
   "execution_count": null,
   "metadata": {},
   "outputs": [],
   "source": []
  },
  {
   "cell_type": "code",
   "execution_count": null,
   "metadata": {},
   "outputs": [],
   "source": []
  },
  {
   "cell_type": "code",
   "execution_count": null,
   "metadata": {},
   "outputs": [],
   "source": []
  }
 ],
 "metadata": {
  "kernelspec": {
   "display_name": "Python 3",
   "language": "python",
   "name": "python3"
  },
  "language_info": {
   "codemirror_mode": {
    "name": "ipython",
    "version": 3
   },
   "file_extension": ".py",
   "mimetype": "text/x-python",
   "name": "python",
   "nbconvert_exporter": "python",
   "pygments_lexer": "ipython3",
   "version": "3.6.3"
  }
 },
 "nbformat": 4,
 "nbformat_minor": 2
}
