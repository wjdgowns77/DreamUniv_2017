{
 "cells": [
  {
   "cell_type": "markdown",
   "metadata": {},
   "source": [
    "# 3번째 수업"
   ]
  },
  {
   "cell_type": "markdown",
   "metadata": {},
   "source": [
    "## 변수1"
   ]
  },
  {
   "cell_type": "code",
   "execution_count": 1,
   "metadata": {},
   "outputs": [
    {
     "name": "stdout",
     "output_type": "stream",
     "text": [
      "100\n"
     ]
    }
   ],
   "source": [
    "x = 100\n",
    "print(x)"
   ]
  },
  {
   "cell_type": "code",
   "execution_count": 2,
   "metadata": {},
   "outputs": [
    {
     "name": "stdout",
     "output_type": "stream",
     "text": [
      "200\n"
     ]
    }
   ],
   "source": [
    "x = 100\n",
    "x = 200\n",
    "print(x)"
   ]
  },
  {
   "cell_type": "code",
   "execution_count": 3,
   "metadata": {},
   "outputs": [
    {
     "name": "stdout",
     "output_type": "stream",
     "text": [
      "300\n"
     ]
    }
   ],
   "source": [
    "# 덧셈 계산\n",
    "x = 100\n",
    "y = 200\n",
    "sum = x + y\n",
    "print(sum)"
   ]
  },
  {
   "cell_type": "markdown",
   "metadata": {},
   "source": [
    "## 변수2"
   ]
  },
  {
   "cell_type": "code",
   "execution_count": 4,
   "metadata": {
    "collapsed": true
   },
   "outputs": [],
   "source": [
    "name = \"홍길동\"\n",
    "address = '경기도 안산시 상록구'"
   ]
  },
  {
   "cell_type": "code",
   "execution_count": 5,
   "metadata": {},
   "outputs": [
    {
     "name": "stdout",
     "output_type": "stream",
     "text": [
      "홍길동\n",
      "경기도 안산시 상록구\n"
     ]
    }
   ],
   "source": [
    "print(name)\n",
    "print(address)"
   ]
  },
  {
   "cell_type": "code",
   "execution_count": 6,
   "metadata": {},
   "outputs": [
    {
     "name": "stdout",
     "output_type": "stream",
     "text": [
      "5\n",
      "23\n"
     ]
    }
   ],
   "source": [
    "print(2+3)\n",
    "print('2' + '3')"
   ]
  },
  {
   "cell_type": "markdown",
   "metadata": {},
   "source": [
    "## 변수3"
   ]
  },
  {
   "cell_type": "code",
   "execution_count": 7,
   "metadata": {},
   "outputs": [
    {
     "name": "stdout",
     "output_type": "stream",
     "text": [
      "11\n"
     ]
    }
   ],
   "source": [
    "score = 10\n",
    "score = score + 1\n",
    "print(score)"
   ]
  },
  {
   "cell_type": "markdown",
   "metadata": {},
   "source": [
    "## 응용1 "
   ]
  },
  {
   "cell_type": "code",
   "execution_count": 9,
   "metadata": {},
   "outputs": [
    {
     "name": "stdout",
     "output_type": "stream",
     "text": [
      "100 와 200 의 합은 300 입니다.\n",
      "100와 200의 합은 300입니다.\n"
     ]
    }
   ],
   "source": [
    "x = 100\n",
    "y = 200\n",
    "sum = x + y\n",
    "print(x, '와', y, '의 합은', sum, '입니다.')\n",
    "print('{x}와 {y}의 합은 {z}입니다.'.format(x=x, y=y, z=sum))"
   ]
  },
  {
   "cell_type": "markdown",
   "metadata": {},
   "source": [
    "## 변수 입력"
   ]
  },
  {
   "cell_type": "code",
   "execution_count": 10,
   "metadata": {},
   "outputs": [
    {
     "name": "stdout",
     "output_type": "stream",
     "text": [
      "이정우\n",
      "이정우\n"
     ]
    }
   ],
   "source": [
    "x = input(\"\")\n",
    "print(x)"
   ]
  },
  {
   "cell_type": "code",
   "execution_count": 19,
   "metadata": {},
   "outputs": [
    {
     "name": "stdout",
     "output_type": "stream",
     "text": [
      "1\n"
     ]
    }
   ],
   "source": [
    "x = input()"
   ]
  },
  {
   "cell_type": "code",
   "execution_count": 21,
   "metadata": {},
   "outputs": [
    {
     "name": "stdout",
     "output_type": "stream",
     "text": [
      "당신의 이름을 입력하세요: 이정우\n"
     ]
    }
   ],
   "source": [
    "x = input(\"당신의 이름을 입력하세요: \")"
   ]
  },
  {
   "cell_type": "code",
   "execution_count": 22,
   "metadata": {},
   "outputs": [
    {
     "name": "stdout",
     "output_type": "stream",
     "text": [
      "이정우\n"
     ]
    }
   ],
   "source": [
    "print(x)"
   ]
  },
  {
   "cell_type": "code",
   "execution_count": 23,
   "metadata": {},
   "outputs": [
    {
     "name": "stdout",
     "output_type": "stream",
     "text": [
      "첫 번째 숫자를 입력해주세요.: 이정우\n"
     ]
    }
   ],
   "source": [
    "x = input(\"첫 번째 숫자를 입력해주세요.: \")"
   ]
  },
  {
   "cell_type": "code",
   "execution_count": 25,
   "metadata": {},
   "outputs": [
    {
     "name": "stdout",
     "output_type": "stream",
     "text": [
      "첫 번째 숫자를 입력해주세요.: 50\n"
     ]
    }
   ],
   "source": [
    "# 값을 숫자로 인식해야 된다.\n",
    "x = int(input(\"첫 번째 숫자를 입력해주세요.: \"))"
   ]
  },
  {
   "cell_type": "code",
   "execution_count": 26,
   "metadata": {},
   "outputs": [
    {
     "name": "stdout",
     "output_type": "stream",
     "text": [
      "50\n"
     ]
    }
   ],
   "source": [
    "print(x)"
   ]
  },
  {
   "cell_type": "code",
   "execution_count": 27,
   "metadata": {},
   "outputs": [
    {
     "name": "stdout",
     "output_type": "stream",
     "text": [
      "첫 번째 숫자를 입력해주세요.: 52\n",
      "두 번째 숫자를 입력해주세요.: 68\n",
      "52 와 68 의 합은 120 입니다.\n"
     ]
    }
   ],
   "source": [
    "x = int(input(\"첫 번째 숫자를 입력해주세요.: \"))\n",
    "y = int(input(\"두 번째 숫자를 입력해주세요.: \"))\n",
    "sum = x + y\n",
    "print(x, '와', y, '의 합은', sum, '입니다.')"
   ]
  },
  {
   "cell_type": "code",
   "execution_count": 28,
   "metadata": {},
   "outputs": [
    {
     "name": "stdout",
     "output_type": "stream",
     "text": [
      "이름을 입력하세요: 이정우\n",
      "주소를 입력하세요: 경기도 안산시 건건동\n",
      "이정우 씨 경기도 안산시 건건동 주소를 잘 찾아가세요.\n"
     ]
    }
   ],
   "source": [
    "name = input(\"이름을 입력하세요: \")\n",
    "address = input(\"주소를 입력하세요: \")\n",
    "print(name,\"씨\", address, \"주소를 잘 찾아가세요.\")"
   ]
  },
  {
   "cell_type": "markdown",
   "metadata": {
    "collapsed": true
   },
   "source": [
    "# 수식"
   ]
  },
  {
   "cell_type": "code",
   "execution_count": 33,
   "metadata": {},
   "outputs": [
    {
     "name": "stdout",
     "output_type": "stream",
     "text": [
      "11 3 28 1.75 1 3\n"
     ]
    }
   ],
   "source": [
    "# 덧셈\n",
    "a = 7 + 4\n",
    "# 뺄셈\n",
    "b = 7 - 4\n",
    "# 곱셈\n",
    "c = 7 * 4\n",
    "# 나눗셈(몫 + 나머지)\n",
    "d = 7 / 4\n",
    "# 나눗셈(몫)\n",
    "e = 7 // 4\n",
    "# 나눗셈(나머지)\n",
    "f = 7 % 4\n",
    "print(a,b,c,d,e,f)"
   ]
  },
  {
   "cell_type": "markdown",
   "metadata": {},
   "source": [
    "## 응용 "
   ]
  },
  {
   "cell_type": "code",
   "execution_count": 35,
   "metadata": {},
   "outputs": [
    {
     "name": "stdout",
     "output_type": "stream",
     "text": [
      "분자를 입력하세요: 7\n",
      "분모를 입력하세요: 4\n",
      "나눗셈의 몫은 1 입니다.\n",
      "나눗셈의 나머지는 3 입니다.\n"
     ]
    }
   ],
   "source": [
    "p = int(input(\"분자를 입력하세요: \"))\n",
    "q = int(input(\"분모를 입력하세요: \"))\n",
    "print(\"나눗셈의 몫은\", p//q ,\"입니다.\")\n",
    "print(\"나눗셈의 나머지는\", p%q ,\"입니다.\")"
   ]
  },
  {
   "cell_type": "markdown",
   "metadata": {},
   "source": [
    "## 응용2 "
   ]
  },
  {
   "cell_type": "code",
   "execution_count": 37,
   "metadata": {},
   "outputs": [
    {
     "name": "stdout",
     "output_type": "stream",
     "text": [
      "정수를 입력하세요: 101\n",
      "1\n"
     ]
    }
   ],
   "source": [
    "number = int(input(\"정수를 입력하세요: \"))\n",
    "print(number%2)"
   ]
  },
  {
   "cell_type": "markdown",
   "metadata": {},
   "source": [
    "## 응용3\n",
    "### 초단위 시간을 받아서 몇분 몇초인지 계산하기"
   ]
  },
  {
   "cell_type": "code",
   "execution_count": 40,
   "metadata": {},
   "outputs": [
    {
     "name": "stdout",
     "output_type": "stream",
     "text": [
      "몇 초인지 입력하세요: 1000\n",
      "16 분 40 초 입니다.\n"
     ]
    }
   ],
   "source": [
    "sec = int(input(\"몇 초인지 입력하세요: \"))\n",
    "# 분 계산하기\n",
    "min = sec//60\n",
    "rest = sec%60\n",
    "print(min,\"분\" , rest,\"초 입니다.\")"
   ]
  },
  {
   "cell_type": "markdown",
   "metadata": {},
   "source": [
    "## BMI 계산하기\n",
    "### 사용자로부터 몸무게와 키를 입력받아 BMI를 측정"
   ]
  },
  {
   "cell_type": "code",
   "execution_count": 47,
   "metadata": {},
   "outputs": [
    {
     "name": "stdout",
     "output_type": "stream",
     "text": [
      "당신의 몸무게를 입력하세요: 18\n",
      "당신의 키를 입력하세요: 1.08\n",
      "당신의 BMI는 15.432098765432098 입니다.\n"
     ]
    }
   ],
   "source": [
    "weight = float(input(\"당신의 몸무게를 입력하세요: \"))\n",
    "height = float(input(\"당신의 키를 입력하세요: \"))\n",
    "\n",
    "bmi = (weight / (height ** 2))\n",
    "print(\"당신의 BMI는\", bmi, \"입니다.\")"
   ]
  },
  {
   "cell_type": "code",
   "execution_count": null,
   "metadata": {
    "collapsed": true
   },
   "outputs": [],
   "source": []
  }
 ],
 "metadata": {
  "kernelspec": {
   "display_name": "Python 3",
   "language": "python",
   "name": "python3"
  },
  "language_info": {
   "codemirror_mode": {
    "name": "ipython",
    "version": 3
   },
   "file_extension": ".py",
   "mimetype": "text/x-python",
   "name": "python",
   "nbconvert_exporter": "python",
   "pygments_lexer": "ipython3",
   "version": "3.4.3"
  }
 },
 "nbformat": 4,
 "nbformat_minor": 2
}
