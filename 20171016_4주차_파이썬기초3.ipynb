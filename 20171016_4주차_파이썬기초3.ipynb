{
 "cells": [
  {
   "cell_type": "markdown",
   "metadata": {},
   "source": [
    "# 오늘 수업 시작 "
   ]
  },
  {
   "cell_type": "markdown",
   "metadata": {},
   "source": [
    "## 2장 변수 "
   ]
  },
  {
   "cell_type": "code",
   "execution_count": 2,
   "metadata": {},
   "outputs": [
    {
     "name": "stdout",
     "output_type": "stream",
     "text": [
      "100\n"
     ]
    }
   ],
   "source": [
    "x = 100\n",
    "print(x)"
   ]
  },
  {
   "cell_type": "code",
   "execution_count": 3,
   "metadata": {},
   "outputs": [
    {
     "name": "stdout",
     "output_type": "stream",
     "text": [
      "200\n"
     ]
    }
   ],
   "source": [
    "x = 100\n",
    "x = 200\n",
    "print(x)"
   ]
  },
  {
   "cell_type": "code",
   "execution_count": 4,
   "metadata": {},
   "outputs": [
    {
     "name": "stdout",
     "output_type": "stream",
     "text": [
      "300\n"
     ]
    }
   ],
   "source": [
    "x = 100\n",
    "y = 200\n",
    "sum = x + y\n",
    "print(sum)"
   ]
  },
  {
   "cell_type": "code",
   "execution_count": 5,
   "metadata": {},
   "outputs": [
    {
     "name": "stdout",
     "output_type": "stream",
     "text": [
      "이정우\n",
      "경기도 안산시 건건동\n"
     ]
    }
   ],
   "source": [
    "name = \"이정우\"\n",
    "address = \"경기도 안산시 건건동\"\n",
    "print(name)\n",
    "print(address)"
   ]
  },
  {
   "cell_type": "code",
   "execution_count": 7,
   "metadata": {},
   "outputs": [
    {
     "name": "stdout",
     "output_type": "stream",
     "text": [
      "첫 번째 값: 30\n",
      "두 번째 값: 40\n"
     ]
    }
   ],
   "source": [
    "x = input(\"첫 번째 값: \")\n",
    "y = input(\"두 번째 값: \")"
   ]
  },
  {
   "cell_type": "code",
   "execution_count": 9,
   "metadata": {},
   "outputs": [
    {
     "name": "stdout",
     "output_type": "stream",
     "text": [
      "30 40\n"
     ]
    }
   ],
   "source": [
    "print(x, y)"
   ]
  },
  {
   "cell_type": "markdown",
   "metadata": {},
   "source": [
    "## 3장 수식 "
   ]
  },
  {
   "cell_type": "code",
   "execution_count": 13,
   "metadata": {},
   "outputs": [
    {
     "name": "stdout",
     "output_type": "stream",
     "text": [
      "분자를 입력하시오: 8\n",
      "분모를 입력하시오: 3\n",
      "나눗셈의 몫은 2\n",
      "나눗셈의 나머지는 2\n"
     ]
    }
   ],
   "source": [
    "p = int(input(\"분자를 입력하시오: \"))\n",
    "q = int(input(\"분모를 입력하시오: \"))\n",
    "print(\"나눗셈의 몫은\", p//q)\n",
    "print(\"나눗셈의 나머지는\", p%q)"
   ]
  },
  {
   "cell_type": "markdown",
   "metadata": {},
   "source": [
    "### BMI 계산하기"
   ]
  },
  {
   "cell_type": "code",
   "execution_count": null,
   "metadata": {
    "collapsed": true
   },
   "outputs": [],
   "source": [
    "# 사용자로부터 신장과 체중을 입력받아서 값을 출력한다.\n",
    "height = float(input(\"신장을 미터 단위로 입력하세요: \"))\n",
    "weight = float(input(\"체중을 kg 단위로 입력하세요: \"))\n",
    "bmi = (weight / (height**2))\n",
    "print(\"당신의 bmi는\", bmi, \"입니다.\")"
   ]
  },
  {
   "cell_type": "markdown",
   "metadata": {
    "collapsed": true
   },
   "source": [
    "## 4장 자료형 "
   ]
  },
  {
   "cell_type": "code",
   "execution_count": 2,
   "metadata": {},
   "outputs": [
    {
     "name": "stdout",
     "output_type": "stream",
     "text": [
      "나는 현재21살이다.\n"
     ]
    }
   ],
   "source": [
    "print(\"나는 현재\" + \"21\" + \"살이다.\")"
   ]
  },
  {
   "cell_type": "code",
   "execution_count": 4,
   "metadata": {},
   "outputs": [
    {
     "name": "stdout",
     "output_type": "stream",
     "text": [
      "나는 현재 21 살이다.\n"
     ]
    }
   ],
   "source": [
    "print(\"나는 현재\", str(21), \"살이다.\")"
   ]
  },
  {
   "cell_type": "code",
   "execution_count": 5,
   "metadata": {},
   "outputs": [
    {
     "data": {
      "text/plain": [
       "'축하!축하!축하!'"
      ]
     },
     "execution_count": 5,
     "metadata": {},
     "output_type": "execute_result"
    }
   ],
   "source": [
    "message = \"축하!\"\n",
    "message * 3"
   ]
  },
  {
   "cell_type": "code",
   "execution_count": 7,
   "metadata": {},
   "outputs": [
    {
     "name": "stdout",
     "output_type": "stream",
     "text": [
      "이정우\n"
     ]
    }
   ],
   "source": [
    "first_name = \"정우\"\n",
    "last_name = \"이\"\n",
    "name = last_name + first_name\n",
    "print(name)"
   ]
  },
  {
   "cell_type": "code",
   "execution_count": 9,
   "metadata": {},
   "outputs": [
    {
     "name": "stdout",
     "output_type": "stream",
     "text": [
      "가격을 입력하세요.: 5000\n",
      "파이썬 책의 가격은 5000원 입니다.\n"
     ]
    }
   ],
   "source": [
    "price = int(input(\"가격을 입력하세요.: \"))\n",
    "print(\"파이썬 책의 가격은 {price}원 입니다.\".format(price=price))\n"
   ]
  },
  {
   "cell_type": "markdown",
   "metadata": {},
   "source": [
    "### Lab1. 친근하게 대화하는 프로그램"
   ]
  },
  {
   "cell_type": "code",
   "execution_count": 15,
   "metadata": {},
   "outputs": [
    {
     "name": "stdout",
     "output_type": "stream",
     "text": [
      "안녕하세요?\n",
      "이름이 어떻게 되시나요?: 이정우\n",
      "만나서 반가워요. 이정우씨.\n",
      "이름의 길이는 다음과 같군요:  3\n",
      "취미가 무엇인가요?: 독서\n",
      "네, 저도 취미가 독서 입니다.\n",
      "나이는 어떻게 되시는지요?: 33\n",
      "아! 내년이면 34살이 되시는군요.\n"
     ]
    }
   ],
   "source": [
    "print(\"안녕하세요?\")\n",
    "name = input(\"이름이 어떻게 되시나요?: \")\n",
    "print(\"만나서 반가워요. {name}씨.\".format(name=name))\n",
    "print(\"이름의 길이는 다음과 같군요: \", end= ' ')\n",
    "print(len(name))\n",
    "\n",
    "hobby = input(\"취미가 무엇인가요?: \")\n",
    "print(\"네, 저도 취미가 {hobby} 입니다.\".format(hobby=hobby))\n",
    "\n",
    "age = int(input(\"나이는 어떻게 되시는지요?: \"))\n",
    "print(\"아! 내년이면 {age}살이 되시는군요.\".format(age=age+1))\n"
   ]
  },
  {
   "cell_type": "code",
   "execution_count": 16,
   "metadata": {},
   "outputs": [
    {
     "name": "stdout",
     "output_type": "stream",
     "text": [
      "내 이름은 이정우 입니다.\n"
     ]
    }
   ],
   "source": [
    "s = \"내 이름은 이정우 입니다.\"\n",
    "print(s)"
   ]
  },
  {
   "cell_type": "code",
   "execution_count": 18,
   "metadata": {},
   "outputs": [
    {
     "name": "stdout",
     "output_type": "stream",
     "text": [
      "이정우\n"
     ]
    }
   ],
   "source": [
    "print(s[6:9])"
   ]
  },
  {
   "cell_type": "code",
   "execution_count": 19,
   "metadata": {
    "collapsed": true
   },
   "outputs": [],
   "source": [
    "slist = [\"체육\", \"컴퓨터\", \"과학\", \"미술\", \"음악\"]"
   ]
  },
  {
   "cell_type": "code",
   "execution_count": 20,
   "metadata": {},
   "outputs": [
    {
     "data": {
      "text/plain": [
       "['체육', '컴퓨터', '과학', '미술', '음악']"
      ]
     },
     "execution_count": 20,
     "metadata": {},
     "output_type": "execute_result"
    }
   ],
   "source": [
    "slist"
   ]
  },
  {
   "cell_type": "code",
   "execution_count": 21,
   "metadata": {
    "collapsed": true
   },
   "outputs": [],
   "source": [
    "elist = [ ]"
   ]
  },
  {
   "cell_type": "code",
   "execution_count": 22,
   "metadata": {},
   "outputs": [
    {
     "data": {
      "text/plain": [
       "[]"
      ]
     },
     "execution_count": 22,
     "metadata": {},
     "output_type": "execute_result"
    }
   ],
   "source": [
    "elist"
   ]
  },
  {
   "cell_type": "code",
   "execution_count": 23,
   "metadata": {},
   "outputs": [
    {
     "data": {
      "text/plain": [
       "[1, 0, 1, 6]"
      ]
     },
     "execution_count": 23,
     "metadata": {},
     "output_type": "execute_result"
    }
   ],
   "source": [
    "list = []\n",
    "list.append(1)\n",
    "list.append(0)\n",
    "list.append(1)\n",
    "list.append(6)\n",
    "list"
   ]
  },
  {
   "cell_type": "markdown",
   "metadata": {},
   "source": [
    "###  Lab2. 친한 친구 목록"
   ]
  },
  {
   "cell_type": "code",
   "execution_count": 24,
   "metadata": {},
   "outputs": [
    {
     "name": "stdout",
     "output_type": "stream",
     "text": [
      "친구의 이름을 입력하세요: 김민관\n",
      "친구의 이름을 입력하세요: 임철현\n",
      "친구의 이름을 입력하세요: 모성훈\n"
     ]
    }
   ],
   "source": [
    "flist = []\n",
    "friend = input(\"친구의 이름을 입력하세요: \")\n",
    "flist.append(friend)\n",
    "\n",
    "friend = input(\"친구의 이름을 입력하세요: \")\n",
    "flist.append(friend)\n",
    "\n",
    "friend = input(\"친구의 이름을 입력하세요: \")\n",
    "flist.append(friend)"
   ]
  },
  {
   "cell_type": "code",
   "execution_count": 25,
   "metadata": {},
   "outputs": [
    {
     "data": {
      "text/plain": [
       "['김민관', '임철현', '모성훈']"
      ]
     },
     "execution_count": 25,
     "metadata": {},
     "output_type": "execute_result"
    }
   ],
   "source": [
    "flist"
   ]
  },
  {
   "cell_type": "code",
   "execution_count": null,
   "metadata": {
    "collapsed": true
   },
   "outputs": [],
   "source": []
  }
 ],
 "metadata": {
  "kernelspec": {
   "display_name": "Python 3",
   "language": "python",
   "name": "python3"
  },
  "language_info": {
   "codemirror_mode": {
    "name": "ipython",
    "version": 3
   },
   "file_extension": ".py",
   "mimetype": "text/x-python",
   "name": "python",
   "nbconvert_exporter": "python",
   "pygments_lexer": "ipython3",
   "version": "3.4.3"
  }
 },
 "nbformat": 4,
 "nbformat_minor": 2
}
