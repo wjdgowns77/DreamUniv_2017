{
 "cells": [
  {
   "cell_type": "markdown",
   "metadata": {},
   "source": [
    "# 조건문과 반복문"
   ]
  },
  {
   "cell_type": "markdown",
   "metadata": {},
   "source": [
    "## 조건문"
   ]
  },
  {
   "cell_type": "code",
   "execution_count": 6,
   "metadata": {},
   "outputs": [
    {
     "name": "stdout",
     "output_type": "stream",
     "text": [
      "성적을 입력해주세요.: 100\n",
      "합격!\n"
     ]
    }
   ],
   "source": [
    "score = int(input(\"성적을 입력해주세요.: \"))\n",
    "if score >= 60:\n",
    "    print(\"합격!\")\n",
    "else: # 그렇지 않으면\n",
    "    print(\"불합격!\")"
   ]
  },
  {
   "cell_type": "code",
   "execution_count": 2,
   "metadata": {},
   "outputs": [
    {
     "name": "stdout",
     "output_type": "stream",
     "text": [
      "59\n"
     ]
    }
   ],
   "source": [
    "print(score)"
   ]
  },
  {
   "cell_type": "code",
   "execution_count": null,
   "metadata": {
    "collapsed": true
   },
   "outputs": [],
   "source": [
    "# 영화 관람가 확인\n",
    "age = int(input(\"너 몇 살이니?: \"))\n",
    "if age >= 19:\n",
    "    print(\"입장하세요.\")\n",
    "else:\n",
    "    print(\"돌아 가세요.\")"
   ]
  },
  {
   "cell_type": "code",
   "execution_count": 3,
   "metadata": {},
   "outputs": [
    {
     "name": "stdout",
     "output_type": "stream",
     "text": [
      "궁금한 연도를 입력하세요.: 2020\n",
      "2020 년은 윤년이다.\n"
     ]
    }
   ],
   "source": [
    "# 윤년 판단\n",
    "year = int(input(\"궁금한 연도를 입력하세요.: \"))\n",
    "if ((year % 4 == 0) and (year % 100 != 0) or (year % 400 == 0)):\n",
    "    print(year, \"년은 윤년이다.\")\n",
    "else:\n",
    "    print(year, \"년은 윤년이 아니다.\")"
   ]
  },
  {
   "cell_type": "code",
   "execution_count": 6,
   "metadata": {},
   "outputs": [
    {
     "name": "stdout",
     "output_type": "stream",
     "text": [
      "정수를 입력하시오: 0\n",
      "0 입니다.\n"
     ]
    }
   ],
   "source": [
    "num = int(input(\"정수를 입력하시오: \"))\n",
    "if num > 0: # 양수이니?\n",
    "    print(\"양수입니다.\")\n",
    "elif num == 0: # 그럼 0이니?\n",
    "    print(\"0 입니다.\")\n",
    "else:\n",
    "    print(\"음수입니다.\")"
   ]
  },
  {
   "cell_type": "code",
   "execution_count": 8,
   "metadata": {},
   "outputs": [
    {
     "name": "stdout",
     "output_type": "stream",
     "text": [
      "정수를 입력하시오: 30\n"
     ]
    }
   ],
   "source": [
    "# 중첩 if-else문\n",
    "num = int(input(\"정수를 입력하시오: \"))\n",
    "if num >= 0:\n",
    "    if num == 0:\n",
    "        (\"0 입니다.\")\n",
    "    else: # num > 0\n",
    "        (\"양수입니다.\")\n",
    "else:\n",
    "    print(\"음수 입니다.\")"
   ]
  },
  {
   "cell_type": "code",
   "execution_count": 11,
   "metadata": {},
   "outputs": [
    {
     "name": "stdout",
     "output_type": "stream",
     "text": [
      "아이디를 입력하세요.scwarts\n",
      "환영합니다.\n",
      "패스워드를 입력하세요.123456\n",
      "로그인 되었습니다.\n"
     ]
    }
   ],
   "source": [
    "# 로그인 프로그램\n",
    "savedID = \"scwarts\"\n",
    "savedPW = \"123456\"\n",
    "\n",
    "id = input(\"아이디를 입력하세요.\")\n",
    "if id == savedID:\n",
    "    print(\"환영합니다.\")\n",
    "    pw = input(\"패스워드를 입력하세요.\")\n",
    "    if pw == savedPW:\n",
    "        print(\"로그인 되었습니다.\")\n",
    "    else: # pw와 savedPW가 다르면\n",
    "        print(\"로그인에 실패하였습니다.\")\n",
    "else: #id가 savedID와 다르면\n",
    "    print(\"그런 아이디를 찾을 수 없습니다.\")"
   ]
  },
  {
   "cell_type": "markdown",
   "metadata": {
    "collapsed": true
   },
   "source": [
    "## 반복문"
   ]
  },
  {
   "cell_type": "code",
   "execution_count": 14,
   "metadata": {},
   "outputs": [
    {
     "name": "stdout",
     "output_type": "stream",
     "text": [
      "방문을 환영합니다.\n",
      "방문을 환영합니다.\n",
      "방문을 환영합니다.\n",
      "방문을 환영합니다.\n",
      "방문을 환영합니다.\n",
      "방문을 환영합니다.\n",
      "방문을 환영합니다.\n",
      "방문을 환영합니다.\n",
      "방문을 환영합니다.\n",
      "방문을 환영합니다.\n"
     ]
    }
   ],
   "source": [
    "# range 함수 쓰기\n",
    "for i in range(10):\n",
    "    print(\"방문을 환영합니다.\")"
   ]
  },
  {
   "cell_type": "code",
   "execution_count": 15,
   "metadata": {},
   "outputs": [
    {
     "name": "stdout",
     "output_type": "stream",
     "text": [
      "i =  1\n",
      "i =  2\n",
      "i =  3\n",
      "i =  4\n",
      "i =  5\n"
     ]
    }
   ],
   "source": [
    "# list를 활용한 반복\n",
    "for i in [1,2,3,4,5]:\n",
    "    print(\"i = \", i)"
   ]
  },
  {
   "cell_type": "code",
   "execution_count": 16,
   "metadata": {},
   "outputs": [
    {
     "name": "stdout",
     "output_type": "stream",
     "text": [
      "9 X 1 = 9\n",
      "9 X 2 = 18\n",
      "9 X 3 = 27\n",
      "9 X 4 = 36\n",
      "9 X 5 = 45\n",
      "9 X 6 = 54\n",
      "9 X 7 = 63\n",
      "9 X 8 = 72\n",
      "9 X 9 = 81\n"
     ]
    }
   ],
   "source": [
    "for i in [1,2,3,4,5,6,7,8,9]:\n",
    "    print(\"9 X\", i, \"=\", 9*i)"
   ]
  },
  {
   "cell_type": "code",
   "execution_count": 17,
   "metadata": {},
   "outputs": [
    {
     "name": "stdout",
     "output_type": "stream",
     "text": [
      "1 2 3 4 5 "
     ]
    }
   ],
   "source": [
    "for i in range(1, 6, 1): # 1에서부터 5까지 1개씩 띄는 간격으로\n",
    "    print(i, end=\" \")"
   ]
  },
  {
   "cell_type": "code",
   "execution_count": 18,
   "metadata": {},
   "outputs": [
    {
     "name": "stdout",
     "output_type": "stream",
     "text": [
      "정수를 입력하시오: 10\n",
      "10 !은 3628800 이다.\n"
     ]
    }
   ],
   "source": [
    "# factorial 계산하기\n",
    "n = int(input(\"정수를 입력하시오: \"))\n",
    "\n",
    "fact = 1\n",
    "for i in range(1, n+1):\n",
    "    fact = fact * i\n",
    "print(n, \"!은\", fact, \"이다.\")"
   ]
  },
  {
   "cell_type": "code",
   "execution_count": 19,
   "metadata": {},
   "outputs": [
    {
     "name": "stdout",
     "output_type": "stream",
     "text": [
      "암호를 입력하세요: pythonis\n",
      "암호를 입력하세요: pythonisfu\\\n",
      "암호를 입력하세요: pythonisfun\n",
      "로그인 성공\n"
     ]
    }
   ],
   "source": [
    "# 조건 제어 반복\n",
    "password = \"\"\n",
    "while password != \"pythonisfun\":\n",
    "    password = input(\"암호를 입력하세요: \")\n",
    "print(\"로그인 성공\")"
   ]
  },
  {
   "cell_type": "code",
   "execution_count": 23,
   "metadata": {},
   "outputs": [
    {
     "name": "stdout",
     "output_type": "stream",
     "text": [
      "원하는 단은?: 9\n",
      "9 단을 입력하셨습니다.\n",
      "9 X 1 = 9\n",
      "9 X 2 = 18\n",
      "9 X 3 = 27\n",
      "9 X 4 = 36\n",
      "9 X 5 = 45\n",
      "9 X 6 = 54\n",
      "9 X 7 = 63\n",
      "9 X 8 = 72\n",
      "9 X 9 = 81\n"
     ]
    }
   ],
   "source": [
    "# 입력부분\n",
    "dan = int(input(\"원하는 단은?: \"))\n",
    "print(dan,\"단을 입력하셨습니다.\")\n",
    "\n",
    "# 계산부분\n",
    "i = 1\n",
    "while i <= 9:\n",
    "    print(\"{dan} X {i} = {result}\".format(dan = dan, i = i, result = dan * i))\n",
    "    i = i + 1 # 제일 중요하다. 무한루프를 벗어나야 한다."
   ]
  },
  {
   "cell_type": "code",
   "execution_count": null,
   "metadata": {
    "collapsed": true
   },
   "outputs": [],
   "source": []
  }
 ],
 "metadata": {
  "kernelspec": {
   "display_name": "Python 3",
   "language": "python",
   "name": "python3"
  },
  "language_info": {
   "codemirror_mode": {
    "name": "ipython",
    "version": 3
   },
   "file_extension": ".py",
   "mimetype": "text/x-python",
   "name": "python",
   "nbconvert_exporter": "python",
   "pygments_lexer": "ipython3",
   "version": "3.4.3"
  }
 },
 "nbformat": 4,
 "nbformat_minor": 2
}
